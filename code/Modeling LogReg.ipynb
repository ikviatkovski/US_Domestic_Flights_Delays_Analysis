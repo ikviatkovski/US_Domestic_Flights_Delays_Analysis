{
 "cells": [
  {
   "cell_type": "code",
   "execution_count": 1,
   "metadata": {},
   "outputs": [],
   "source": [
    "import pandas as pd\n",
    "import numpy as np\n",
    "\n",
    "\n",
    "import matplotlib.pyplot as plt\n",
    "import seaborn as sns\n",
    "\n",
    "plt.style.use('fivethirtyeight')\n",
    "\n",
    "%matplotlib inline\n",
    "%config InlineBackend.figure_format = 'retina'\n",
    "\n",
    "from sklearn.pipeline                import Pipeline\n",
    "from sklearn.model_selection         import train_test_split, GridSearchCV\n",
    "from sklearn.linear_model            import LogisticRegression\n",
    "from sklearn.ensemble                import BaggingClassifier,RandomForestClassifier,ExtraTreesClassifier,AdaBoostClassifier,GradientBoostingClassifier\n",
    "\n",
    "from sklearn.tree                    import DecisionTreeClassifier\n",
    "from sklearn.svm                     import SVC\n",
    "\n",
    "import warnings\n",
    "\n",
    "warnings.simplefilter(action='ignore', category=FutureWarning)"
   ]
  },
  {
   "cell_type": "code",
   "execution_count": 2,
   "metadata": {},
   "outputs": [],
   "source": [
    "data = pd.read_csv('~/ga/projects/capstone_data/data/data_model.csv')"
   ]
  },
  {
   "cell_type": "code",
   "execution_count": 3,
   "metadata": {},
   "outputs": [
    {
     "data": {
      "text/plain": [
       "(1775112, 25)"
      ]
     },
     "execution_count": 3,
     "metadata": {},
     "output_type": "execute_result"
    }
   ],
   "source": [
    "data.shape"
   ]
  },
  {
   "cell_type": "code",
   "execution_count": 4,
   "metadata": {},
   "outputs": [
    {
     "data": {
      "text/plain": [
       "Index(['Unnamed: 0', 'month', 'day_of_month', 'day_of_week', 'fl_date',\n",
       "       'op_carrier', 'op_carrier_fl_num', 'origin', 'origin_city_name',\n",
       "       'origin_state_abr', 'origin_state_nm', 'dest', 'dest_city_name',\n",
       "       'dest_state_abr', 'dest_state_nm', 'dep_delay', 'arr_delay', 'distance',\n",
       "       'carrier_delay', 'weather_delay', 'nas_delay', 'security_delay',\n",
       "       'late_aircraft_delay', 'carrier', 'total_delay'],\n",
       "      dtype='object')"
      ]
     },
     "execution_count": 4,
     "metadata": {},
     "output_type": "execute_result"
    }
   ],
   "source": [
    "data.columns"
   ]
  },
  {
   "cell_type": "code",
   "execution_count": 5,
   "metadata": {},
   "outputs": [],
   "source": [
    "data.drop(columns = ['Unnamed: 0'], inplace=True)"
   ]
  },
  {
   "cell_type": "code",
   "execution_count": 6,
   "metadata": {},
   "outputs": [
    {
     "data": {
      "text/plain": [
       "Index(['month', 'day_of_month', 'day_of_week', 'fl_date', 'op_carrier',\n",
       "       'op_carrier_fl_num', 'origin', 'origin_city_name', 'origin_state_abr',\n",
       "       'origin_state_nm', 'dest', 'dest_city_name', 'dest_state_abr',\n",
       "       'dest_state_nm', 'dep_delay', 'arr_delay', 'distance', 'carrier_delay',\n",
       "       'weather_delay', 'nas_delay', 'security_delay', 'late_aircraft_delay',\n",
       "       'carrier', 'total_delay'],\n",
       "      dtype='object')"
      ]
     },
     "execution_count": 6,
     "metadata": {},
     "output_type": "execute_result"
    }
   ],
   "source": [
    "data.columns"
   ]
  },
  {
   "cell_type": "code",
   "execution_count": 7,
   "metadata": {},
   "outputs": [
    {
     "data": {
      "text/plain": [
       "0.0       1452996\n",
       "15.0        12506\n",
       "16.0        11791\n",
       "17.0        10953\n",
       "18.0        10445\n",
       "           ...   \n",
       "1071.0          1\n",
       "1076.0          1\n",
       "1078.0          1\n",
       "701.0           1\n",
       "1497.0          1\n",
       "Name: total_delay, Length: 1186, dtype: int64"
      ]
     },
     "execution_count": 7,
     "metadata": {},
     "output_type": "execute_result"
    }
   ],
   "source": [
    "data['total_delay'].value_counts()"
   ]
  },
  {
   "cell_type": "code",
   "execution_count": 8,
   "metadata": {},
   "outputs": [],
   "source": [
    "data['delay_indicator'] = np.where(data['total_delay']>14,1,0)"
   ]
  },
  {
   "cell_type": "code",
   "execution_count": 9,
   "metadata": {},
   "outputs": [
    {
     "data": {
      "text/plain": [
       "0    0.818538\n",
       "1    0.181462\n",
       "Name: delay_indicator, dtype: float64"
      ]
     },
     "execution_count": 9,
     "metadata": {},
     "output_type": "execute_result"
    }
   ],
   "source": [
    "data['delay_indicator'].value_counts(normalize=True)"
   ]
  },
  {
   "cell_type": "code",
   "execution_count": 10,
   "metadata": {},
   "outputs": [
    {
     "data": {
      "text/plain": [
       "(644232, 25)"
      ]
     },
     "execution_count": 10,
     "metadata": {},
     "output_type": "execute_result"
    }
   ],
   "source": [
    "data_negative = data[data['delay_indicator'] == 1]\n",
    "\n",
    "data_pozitive = data[data['delay_indicator'] == 0].sample(data_negative.shape[0])\n",
    "\n",
    "data_balanced = pd.concat([data_pozitive,data_negative])\n",
    "data_balanced.shape"
   ]
  },
  {
   "cell_type": "code",
   "execution_count": 11,
   "metadata": {},
   "outputs": [
    {
     "data": {
      "text/html": [
       "<div>\n",
       "<style scoped>\n",
       "    .dataframe tbody tr th:only-of-type {\n",
       "        vertical-align: middle;\n",
       "    }\n",
       "\n",
       "    .dataframe tbody tr th {\n",
       "        vertical-align: top;\n",
       "    }\n",
       "\n",
       "    .dataframe thead th {\n",
       "        text-align: right;\n",
       "    }\n",
       "</style>\n",
       "<table border=\"1\" class=\"dataframe\">\n",
       "  <thead>\n",
       "    <tr style=\"text-align: right;\">\n",
       "      <th></th>\n",
       "      <th>month</th>\n",
       "      <th>day_of_month</th>\n",
       "      <th>day_of_week</th>\n",
       "      <th>fl_date</th>\n",
       "      <th>op_carrier</th>\n",
       "      <th>op_carrier_fl_num</th>\n",
       "      <th>origin</th>\n",
       "      <th>origin_city_name</th>\n",
       "      <th>origin_state_abr</th>\n",
       "      <th>origin_state_nm</th>\n",
       "      <th>...</th>\n",
       "      <th>arr_delay</th>\n",
       "      <th>distance</th>\n",
       "      <th>carrier_delay</th>\n",
       "      <th>weather_delay</th>\n",
       "      <th>nas_delay</th>\n",
       "      <th>security_delay</th>\n",
       "      <th>late_aircraft_delay</th>\n",
       "      <th>carrier</th>\n",
       "      <th>total_delay</th>\n",
       "      <th>delay_indicator</th>\n",
       "    </tr>\n",
       "  </thead>\n",
       "  <tbody>\n",
       "    <tr>\n",
       "      <td>37046</td>\n",
       "      <td>10</td>\n",
       "      <td>19</td>\n",
       "      <td>5</td>\n",
       "      <td>2018-10-19</td>\n",
       "      <td>OH</td>\n",
       "      <td>5171</td>\n",
       "      <td>BDL</td>\n",
       "      <td>Hartford, CT</td>\n",
       "      <td>CT</td>\n",
       "      <td>Connecticut</td>\n",
       "      <td>...</td>\n",
       "      <td>-10.0</td>\n",
       "      <td>313.0</td>\n",
       "      <td>0.0</td>\n",
       "      <td>0.0</td>\n",
       "      <td>0.0</td>\n",
       "      <td>0.0</td>\n",
       "      <td>0.0</td>\n",
       "      <td>American</td>\n",
       "      <td>0.0</td>\n",
       "      <td>0</td>\n",
       "    </tr>\n",
       "    <tr>\n",
       "      <td>924838</td>\n",
       "      <td>11</td>\n",
       "      <td>12</td>\n",
       "      <td>1</td>\n",
       "      <td>2018-11-12</td>\n",
       "      <td>YX</td>\n",
       "      <td>3746</td>\n",
       "      <td>ABQ</td>\n",
       "      <td>Albuquerque, NM</td>\n",
       "      <td>NM</td>\n",
       "      <td>New Mexico</td>\n",
       "      <td>...</td>\n",
       "      <td>-38.0</td>\n",
       "      <td>1118.0</td>\n",
       "      <td>0.0</td>\n",
       "      <td>0.0</td>\n",
       "      <td>0.0</td>\n",
       "      <td>0.0</td>\n",
       "      <td>0.0</td>\n",
       "      <td>American</td>\n",
       "      <td>0.0</td>\n",
       "      <td>0</td>\n",
       "    </tr>\n",
       "    <tr>\n",
       "      <td>1233720</td>\n",
       "      <td>12</td>\n",
       "      <td>22</td>\n",
       "      <td>6</td>\n",
       "      <td>2018-12-22</td>\n",
       "      <td>AS</td>\n",
       "      <td>1037</td>\n",
       "      <td>JFK</td>\n",
       "      <td>New York, NY</td>\n",
       "      <td>NY</td>\n",
       "      <td>New York</td>\n",
       "      <td>...</td>\n",
       "      <td>1.0</td>\n",
       "      <td>2569.0</td>\n",
       "      <td>0.0</td>\n",
       "      <td>0.0</td>\n",
       "      <td>0.0</td>\n",
       "      <td>0.0</td>\n",
       "      <td>0.0</td>\n",
       "      <td>Alaska Airlines</td>\n",
       "      <td>0.0</td>\n",
       "      <td>0</td>\n",
       "    </tr>\n",
       "    <tr>\n",
       "      <td>1318397</td>\n",
       "      <td>12</td>\n",
       "      <td>29</td>\n",
       "      <td>6</td>\n",
       "      <td>2018-12-29</td>\n",
       "      <td>F9</td>\n",
       "      <td>1777</td>\n",
       "      <td>TTN</td>\n",
       "      <td>Trenton, NJ</td>\n",
       "      <td>NJ</td>\n",
       "      <td>New Jersey</td>\n",
       "      <td>...</td>\n",
       "      <td>-29.0</td>\n",
       "      <td>896.0</td>\n",
       "      <td>0.0</td>\n",
       "      <td>0.0</td>\n",
       "      <td>0.0</td>\n",
       "      <td>0.0</td>\n",
       "      <td>0.0</td>\n",
       "      <td>Frontier Airlines</td>\n",
       "      <td>0.0</td>\n",
       "      <td>0</td>\n",
       "    </tr>\n",
       "    <tr>\n",
       "      <td>468910</td>\n",
       "      <td>10</td>\n",
       "      <td>19</td>\n",
       "      <td>5</td>\n",
       "      <td>2018-10-19</td>\n",
       "      <td>WN</td>\n",
       "      <td>2488</td>\n",
       "      <td>MDW</td>\n",
       "      <td>Chicago, IL</td>\n",
       "      <td>IL</td>\n",
       "      <td>Illinois</td>\n",
       "      <td>...</td>\n",
       "      <td>-8.0</td>\n",
       "      <td>1855.0</td>\n",
       "      <td>0.0</td>\n",
       "      <td>0.0</td>\n",
       "      <td>0.0</td>\n",
       "      <td>0.0</td>\n",
       "      <td>0.0</td>\n",
       "      <td>SouthWest</td>\n",
       "      <td>0.0</td>\n",
       "      <td>0</td>\n",
       "    </tr>\n",
       "  </tbody>\n",
       "</table>\n",
       "<p>5 rows × 25 columns</p>\n",
       "</div>"
      ],
      "text/plain": [
       "         month  day_of_month  day_of_week     fl_date op_carrier  \\\n",
       "37046       10            19            5  2018-10-19         OH   \n",
       "924838      11            12            1  2018-11-12         YX   \n",
       "1233720     12            22            6  2018-12-22         AS   \n",
       "1318397     12            29            6  2018-12-29         F9   \n",
       "468910      10            19            5  2018-10-19         WN   \n",
       "\n",
       "         op_carrier_fl_num origin origin_city_name origin_state_abr  \\\n",
       "37046                 5171    BDL     Hartford, CT               CT   \n",
       "924838                3746    ABQ  Albuquerque, NM               NM   \n",
       "1233720               1037    JFK     New York, NY               NY   \n",
       "1318397               1777    TTN      Trenton, NJ               NJ   \n",
       "468910                2488    MDW      Chicago, IL               IL   \n",
       "\n",
       "        origin_state_nm  ... arr_delay distance carrier_delay weather_delay  \\\n",
       "37046       Connecticut  ...     -10.0    313.0           0.0           0.0   \n",
       "924838       New Mexico  ...     -38.0   1118.0           0.0           0.0   \n",
       "1233720        New York  ...       1.0   2569.0           0.0           0.0   \n",
       "1318397      New Jersey  ...     -29.0    896.0           0.0           0.0   \n",
       "468910         Illinois  ...      -8.0   1855.0           0.0           0.0   \n",
       "\n",
       "         nas_delay  security_delay  late_aircraft_delay            carrier  \\\n",
       "37046          0.0             0.0                  0.0           American   \n",
       "924838         0.0             0.0                  0.0           American   \n",
       "1233720        0.0             0.0                  0.0    Alaska Airlines   \n",
       "1318397        0.0             0.0                  0.0  Frontier Airlines   \n",
       "468910         0.0             0.0                  0.0          SouthWest   \n",
       "\n",
       "         total_delay  delay_indicator  \n",
       "37046            0.0                0  \n",
       "924838           0.0                0  \n",
       "1233720          0.0                0  \n",
       "1318397          0.0                0  \n",
       "468910           0.0                0  \n",
       "\n",
       "[5 rows x 25 columns]"
      ]
     },
     "execution_count": 11,
     "metadata": {},
     "output_type": "execute_result"
    }
   ],
   "source": [
    "data_balanced.head()"
   ]
  },
  {
   "cell_type": "code",
   "execution_count": 12,
   "metadata": {},
   "outputs": [],
   "source": [
    "X = data_balanced.drop(columns=['delay_indicator', 'total_delay','dep_delay','arr_delay'])\n",
    "y = data_balanced['delay_indicator']"
   ]
  },
  {
   "cell_type": "code",
   "execution_count": 13,
   "metadata": {},
   "outputs": [
    {
     "data": {
      "text/plain": [
       "(644232, 21)"
      ]
     },
     "execution_count": 13,
     "metadata": {},
     "output_type": "execute_result"
    }
   ],
   "source": [
    "X.shape"
   ]
  },
  {
   "cell_type": "code",
   "execution_count": 14,
   "metadata": {},
   "outputs": [
    {
     "data": {
      "text/plain": [
       "month                    int64\n",
       "day_of_month             int64\n",
       "day_of_week              int64\n",
       "fl_date                 object\n",
       "op_carrier              object\n",
       "op_carrier_fl_num        int64\n",
       "origin                  object\n",
       "origin_city_name        object\n",
       "origin_state_abr        object\n",
       "origin_state_nm         object\n",
       "dest                    object\n",
       "dest_city_name          object\n",
       "dest_state_abr          object\n",
       "dest_state_nm           object\n",
       "distance               float64\n",
       "carrier_delay          float64\n",
       "weather_delay          float64\n",
       "nas_delay              float64\n",
       "security_delay         float64\n",
       "late_aircraft_delay    float64\n",
       "carrier                 object\n",
       "dtype: object"
      ]
     },
     "execution_count": 14,
     "metadata": {},
     "output_type": "execute_result"
    }
   ],
   "source": [
    "X.dtypes"
   ]
  },
  {
   "cell_type": "code",
   "execution_count": 15,
   "metadata": {},
   "outputs": [
    {
     "data": {
      "text/plain": [
       "(644232,)"
      ]
     },
     "execution_count": 15,
     "metadata": {},
     "output_type": "execute_result"
    }
   ],
   "source": [
    "y.shape"
   ]
  },
  {
   "cell_type": "code",
   "execution_count": 16,
   "metadata": {},
   "outputs": [
    {
     "data": {
      "text/plain": [
       "0.5"
      ]
     },
     "execution_count": 16,
     "metadata": {},
     "output_type": "execute_result"
    }
   ],
   "source": [
    "y.mean()"
   ]
  },
  {
   "cell_type": "code",
   "execution_count": 17,
   "metadata": {},
   "outputs": [],
   "source": [
    "X = pd.get_dummies(X,columns = ['origin','dest','carrier'],drop_first=True )"
   ]
  },
  {
   "cell_type": "code",
   "execution_count": 18,
   "metadata": {},
   "outputs": [
    {
     "data": {
      "text/html": [
       "<div>\n",
       "<style scoped>\n",
       "    .dataframe tbody tr th:only-of-type {\n",
       "        vertical-align: middle;\n",
       "    }\n",
       "\n",
       "    .dataframe tbody tr th {\n",
       "        vertical-align: top;\n",
       "    }\n",
       "\n",
       "    .dataframe thead th {\n",
       "        text-align: right;\n",
       "    }\n",
       "</style>\n",
       "<table border=\"1\" class=\"dataframe\">\n",
       "  <thead>\n",
       "    <tr style=\"text-align: right;\">\n",
       "      <th></th>\n",
       "      <th>month</th>\n",
       "      <th>day_of_month</th>\n",
       "      <th>day_of_week</th>\n",
       "      <th>fl_date</th>\n",
       "      <th>op_carrier</th>\n",
       "      <th>op_carrier_fl_num</th>\n",
       "      <th>origin_city_name</th>\n",
       "      <th>origin_state_abr</th>\n",
       "      <th>origin_state_nm</th>\n",
       "      <th>dest_city_name</th>\n",
       "      <th>...</th>\n",
       "      <th>dest_YUM</th>\n",
       "      <th>carrier_Allegiant Air</th>\n",
       "      <th>carrier_American</th>\n",
       "      <th>carrier_Delta</th>\n",
       "      <th>carrier_Frontier Airlines</th>\n",
       "      <th>carrier_Hawaiian Airlines</th>\n",
       "      <th>carrier_JetBlue</th>\n",
       "      <th>carrier_SouthWest</th>\n",
       "      <th>carrier_Spirit Airlines</th>\n",
       "      <th>carrier_United</th>\n",
       "    </tr>\n",
       "  </thead>\n",
       "  <tbody>\n",
       "    <tr>\n",
       "      <td>37046</td>\n",
       "      <td>10</td>\n",
       "      <td>19</td>\n",
       "      <td>5</td>\n",
       "      <td>2018-10-19</td>\n",
       "      <td>OH</td>\n",
       "      <td>5171</td>\n",
       "      <td>Hartford, CT</td>\n",
       "      <td>CT</td>\n",
       "      <td>Connecticut</td>\n",
       "      <td>Washington, DC</td>\n",
       "      <td>...</td>\n",
       "      <td>0</td>\n",
       "      <td>0</td>\n",
       "      <td>1</td>\n",
       "      <td>0</td>\n",
       "      <td>0</td>\n",
       "      <td>0</td>\n",
       "      <td>0</td>\n",
       "      <td>0</td>\n",
       "      <td>0</td>\n",
       "      <td>0</td>\n",
       "    </tr>\n",
       "    <tr>\n",
       "      <td>924838</td>\n",
       "      <td>11</td>\n",
       "      <td>12</td>\n",
       "      <td>1</td>\n",
       "      <td>2018-11-12</td>\n",
       "      <td>YX</td>\n",
       "      <td>3746</td>\n",
       "      <td>Albuquerque, NM</td>\n",
       "      <td>NM</td>\n",
       "      <td>New Mexico</td>\n",
       "      <td>Chicago, IL</td>\n",
       "      <td>...</td>\n",
       "      <td>0</td>\n",
       "      <td>0</td>\n",
       "      <td>1</td>\n",
       "      <td>0</td>\n",
       "      <td>0</td>\n",
       "      <td>0</td>\n",
       "      <td>0</td>\n",
       "      <td>0</td>\n",
       "      <td>0</td>\n",
       "      <td>0</td>\n",
       "    </tr>\n",
       "    <tr>\n",
       "      <td>1233720</td>\n",
       "      <td>12</td>\n",
       "      <td>22</td>\n",
       "      <td>6</td>\n",
       "      <td>2018-12-22</td>\n",
       "      <td>AS</td>\n",
       "      <td>1037</td>\n",
       "      <td>New York, NY</td>\n",
       "      <td>NY</td>\n",
       "      <td>New York</td>\n",
       "      <td>San Jose, CA</td>\n",
       "      <td>...</td>\n",
       "      <td>0</td>\n",
       "      <td>0</td>\n",
       "      <td>0</td>\n",
       "      <td>0</td>\n",
       "      <td>0</td>\n",
       "      <td>0</td>\n",
       "      <td>0</td>\n",
       "      <td>0</td>\n",
       "      <td>0</td>\n",
       "      <td>0</td>\n",
       "    </tr>\n",
       "    <tr>\n",
       "      <td>1318397</td>\n",
       "      <td>12</td>\n",
       "      <td>29</td>\n",
       "      <td>6</td>\n",
       "      <td>2018-12-29</td>\n",
       "      <td>F9</td>\n",
       "      <td>1777</td>\n",
       "      <td>Trenton, NJ</td>\n",
       "      <td>NJ</td>\n",
       "      <td>New Jersey</td>\n",
       "      <td>Orlando, FL</td>\n",
       "      <td>...</td>\n",
       "      <td>0</td>\n",
       "      <td>0</td>\n",
       "      <td>0</td>\n",
       "      <td>0</td>\n",
       "      <td>1</td>\n",
       "      <td>0</td>\n",
       "      <td>0</td>\n",
       "      <td>0</td>\n",
       "      <td>0</td>\n",
       "      <td>0</td>\n",
       "    </tr>\n",
       "    <tr>\n",
       "      <td>468910</td>\n",
       "      <td>10</td>\n",
       "      <td>19</td>\n",
       "      <td>5</td>\n",
       "      <td>2018-10-19</td>\n",
       "      <td>WN</td>\n",
       "      <td>2488</td>\n",
       "      <td>Chicago, IL</td>\n",
       "      <td>IL</td>\n",
       "      <td>Illinois</td>\n",
       "      <td>San Francisco, CA</td>\n",
       "      <td>...</td>\n",
       "      <td>0</td>\n",
       "      <td>0</td>\n",
       "      <td>0</td>\n",
       "      <td>0</td>\n",
       "      <td>0</td>\n",
       "      <td>0</td>\n",
       "      <td>0</td>\n",
       "      <td>1</td>\n",
       "      <td>0</td>\n",
       "      <td>0</td>\n",
       "    </tr>\n",
       "  </tbody>\n",
       "</table>\n",
       "<p>5 rows × 725 columns</p>\n",
       "</div>"
      ],
      "text/plain": [
       "         month  day_of_month  day_of_week     fl_date op_carrier  \\\n",
       "37046       10            19            5  2018-10-19         OH   \n",
       "924838      11            12            1  2018-11-12         YX   \n",
       "1233720     12            22            6  2018-12-22         AS   \n",
       "1318397     12            29            6  2018-12-29         F9   \n",
       "468910      10            19            5  2018-10-19         WN   \n",
       "\n",
       "         op_carrier_fl_num origin_city_name origin_state_abr origin_state_nm  \\\n",
       "37046                 5171     Hartford, CT               CT     Connecticut   \n",
       "924838                3746  Albuquerque, NM               NM      New Mexico   \n",
       "1233720               1037     New York, NY               NY        New York   \n",
       "1318397               1777      Trenton, NJ               NJ      New Jersey   \n",
       "468910                2488      Chicago, IL               IL        Illinois   \n",
       "\n",
       "            dest_city_name  ... dest_YUM carrier_Allegiant Air  \\\n",
       "37046       Washington, DC  ...        0                     0   \n",
       "924838         Chicago, IL  ...        0                     0   \n",
       "1233720       San Jose, CA  ...        0                     0   \n",
       "1318397        Orlando, FL  ...        0                     0   \n",
       "468910   San Francisco, CA  ...        0                     0   \n",
       "\n",
       "         carrier_American  carrier_Delta  carrier_Frontier Airlines  \\\n",
       "37046                   1              0                          0   \n",
       "924838                  1              0                          0   \n",
       "1233720                 0              0                          0   \n",
       "1318397                 0              0                          1   \n",
       "468910                  0              0                          0   \n",
       "\n",
       "         carrier_Hawaiian Airlines  carrier_JetBlue  carrier_SouthWest  \\\n",
       "37046                            0                0                  0   \n",
       "924838                           0                0                  0   \n",
       "1233720                          0                0                  0   \n",
       "1318397                          0                0                  0   \n",
       "468910                           0                0                  1   \n",
       "\n",
       "         carrier_Spirit Airlines  carrier_United  \n",
       "37046                          0               0  \n",
       "924838                         0               0  \n",
       "1233720                        0               0  \n",
       "1318397                        0               0  \n",
       "468910                         0               0  \n",
       "\n",
       "[5 rows x 725 columns]"
      ]
     },
     "execution_count": 18,
     "metadata": {},
     "output_type": "execute_result"
    }
   ],
   "source": [
    "X.head()"
   ]
  },
  {
   "cell_type": "code",
   "execution_count": 19,
   "metadata": {},
   "outputs": [
    {
     "data": {
      "text/plain": [
       "(644232, 725)"
      ]
     },
     "execution_count": 19,
     "metadata": {},
     "output_type": "execute_result"
    }
   ],
   "source": [
    "X.shape"
   ]
  },
  {
   "cell_type": "code",
   "execution_count": 20,
   "metadata": {},
   "outputs": [
    {
     "data": {
      "text/plain": [
       "(644232, 717)"
      ]
     },
     "execution_count": 20,
     "metadata": {},
     "output_type": "execute_result"
    }
   ],
   "source": [
    "X = X._get_numeric_data()\n",
    "X.shape"
   ]
  },
  {
   "cell_type": "markdown",
   "metadata": {},
   "source": [
    "## Logistic Regression##"
   ]
  },
  {
   "cell_type": "code",
   "execution_count": 21,
   "metadata": {},
   "outputs": [],
   "source": [
    "lr = LogisticRegression()"
   ]
  },
  {
   "cell_type": "code",
   "execution_count": 22,
   "metadata": {},
   "outputs": [
    {
     "data": {
      "text/plain": [
       "(644232, 717)"
      ]
     },
     "execution_count": 22,
     "metadata": {},
     "output_type": "execute_result"
    }
   ],
   "source": [
    "X.shape"
   ]
  },
  {
   "cell_type": "code",
   "execution_count": 23,
   "metadata": {},
   "outputs": [
    {
     "data": {
      "text/plain": [
       "(644232,)"
      ]
     },
     "execution_count": 23,
     "metadata": {},
     "output_type": "execute_result"
    }
   ],
   "source": [
    "y.shape"
   ]
  },
  {
   "cell_type": "code",
   "execution_count": 24,
   "metadata": {},
   "outputs": [
    {
     "data": {
      "text/plain": [
       "1    0.5\n",
       "0    0.5\n",
       "Name: delay_indicator, dtype: float64"
      ]
     },
     "execution_count": 24,
     "metadata": {},
     "output_type": "execute_result"
    }
   ],
   "source": [
    "y.value_counts(normalize=True)"
   ]
  },
  {
   "cell_type": "code",
   "execution_count": 25,
   "metadata": {},
   "outputs": [],
   "source": [
    "#Training and testing sets split with stratification \n",
    "X_train, X_test, y_train, y_test = train_test_split(X, y, random_state=42)"
   ]
  },
  {
   "cell_type": "code",
   "execution_count": 26,
   "metadata": {},
   "outputs": [
    {
     "data": {
      "text/plain": [
       "LogisticRegression(C=1.0, class_weight=None, dual=False, fit_intercept=True,\n",
       "                   intercept_scaling=1, l1_ratio=None, max_iter=100,\n",
       "                   multi_class='warn', n_jobs=None, penalty='l2',\n",
       "                   random_state=None, solver='warn', tol=0.0001, verbose=0,\n",
       "                   warm_start=False)"
      ]
     },
     "execution_count": 26,
     "metadata": {},
     "output_type": "execute_result"
    }
   ],
   "source": [
    "lr.fit(X_train, y_train)"
   ]
  },
  {
   "cell_type": "code",
   "execution_count": 27,
   "metadata": {},
   "outputs": [
    {
     "data": {
      "text/plain": [
       "0.9859160468071544"
      ]
     },
     "execution_count": 27,
     "metadata": {},
     "output_type": "execute_result"
    }
   ],
   "source": [
    "lr.score(X_train,y_train)"
   ]
  },
  {
   "cell_type": "code",
   "execution_count": 28,
   "metadata": {},
   "outputs": [
    {
     "data": {
      "text/plain": [
       "0.9859553701151138"
      ]
     },
     "execution_count": 28,
     "metadata": {},
     "output_type": "execute_result"
    }
   ],
   "source": [
    "lr.score(X_test, y_test)"
   ]
  },
  {
   "cell_type": "code",
   "execution_count": 29,
   "metadata": {},
   "outputs": [],
   "source": [
    "y_hat = lr.predict(X_test)"
   ]
  },
  {
   "cell_type": "code",
   "execution_count": 30,
   "metadata": {},
   "outputs": [],
   "source": [
    "from sklearn.metrics import mean_squared_error as mse"
   ]
  },
  {
   "cell_type": "code",
   "execution_count": 31,
   "metadata": {},
   "outputs": [
    {
     "data": {
      "text/plain": [
       "0.01404462988488619"
      ]
     },
     "execution_count": 31,
     "metadata": {},
     "output_type": "execute_result"
    }
   ],
   "source": [
    "mse(y_hat, y_test)"
   ]
  },
  {
   "cell_type": "code",
   "execution_count": 32,
   "metadata": {},
   "outputs": [],
   "source": [
    "coefs = lr.coef_"
   ]
  },
  {
   "cell_type": "code",
   "execution_count": 33,
   "metadata": {},
   "outputs": [
    {
     "data": {
      "text/plain": [
       "array([[ 4.53900158e-02,  1.13983971e-02,  5.10471916e-03,\n",
       "         5.61382791e-05,  7.35927237e-06,  1.03386056e+01,\n",
       "         9.00803913e+00,  1.15060886e+01,  6.40630716e+00,\n",
       "         1.15665552e+01,  1.02851946e-02,  7.26563105e-02,\n",
       "        -1.09752354e-02, -3.41907109e-02, -1.43647751e-02,\n",
       "        -1.74924927e-02, -3.71377849e-02, -8.64581574e-02,\n",
       "         8.63186660e-02, -6.71744112e-03, -3.73448629e-04,\n",
       "        -5.47855729e-03,  1.60549050e-01,  1.46413438e-02,\n",
       "        -1.32052933e-01, -3.55315233e-01, -1.82933952e-02,\n",
       "         1.18863083e-03,  3.91026285e-04,  4.24555146e-01,\n",
       "        -4.58086782e-02, -2.84825501e-03, -1.63270419e-01,\n",
       "        -2.23362021e-02,  1.84098073e-01, -1.77377011e-02,\n",
       "        -2.46337307e-02,  2.14398149e-02, -2.73666590e-02,\n",
       "        -9.31437333e-02,  2.62187670e-02,  1.50656070e-02,\n",
       "        -1.54286439e-01, -6.40503725e-02, -3.98931548e-02,\n",
       "        -1.30449638e-02, -9.49380753e-03, -3.44139949e-02,\n",
       "        -2.84624920e-03,  9.11158310e-02, -3.27692487e-02,\n",
       "        -1.43301113e-01,  3.12733103e-01, -4.05594798e-03,\n",
       "        -2.74720588e-02, -1.06039748e-01, -1.34476755e-02,\n",
       "        -2.28406696e-02, -2.45850652e-02, -2.31850344e-02,\n",
       "        -1.44230966e-02,  1.30820837e-01,  7.93660143e-02,\n",
       "         2.23126276e-01, -1.03100094e-01,  7.69275681e-02,\n",
       "        -1.10933558e-01,  1.15583563e-01,  2.65544656e-02,\n",
       "        -3.24460682e-02, -3.40163008e-02,  3.59722094e-02,\n",
       "        -2.31931747e-02, -2.18351031e-01,  7.24731565e-02,\n",
       "        -1.97691109e-02, -2.43886805e-02,  6.87753001e-02,\n",
       "        -1.16966105e-01,  5.42833291e-01,  1.64349627e-02,\n",
       "         2.13211305e-02,  3.19456908e-02, -1.65292876e-02,\n",
       "         2.05810468e-02, -9.73492557e-02,  2.59122375e-02,\n",
       "        -4.29544082e-02, -8.49691833e-02,  2.23237554e-01,\n",
       "         4.34728326e-02, -4.37197520e-01, -3.90864974e-02,\n",
       "         3.84680762e-02, -4.95548672e-02,  2.73068502e-01,\n",
       "         3.61588863e-02, -5.22137014e-02,  4.78072815e-02,\n",
       "         1.68322162e-01,  5.25931195e-01, -3.76999943e-02,\n",
       "        -3.25386126e-02,  1.88128553e-01, -1.83538505e-02,\n",
       "        -6.33430756e-02, -2.96727827e-01,  7.17397716e-02,\n",
       "        -1.66817066e-02, -2.32680216e-02,  4.81183527e-03,\n",
       "         2.12553543e-01, -2.54395951e-02, -1.09245761e-02,\n",
       "        -6.07865351e-02, -1.40535612e-02,  3.29705984e-02,\n",
       "        -1.46683083e-02, -1.01422306e-01,  7.82458549e-02,\n",
       "         7.06167488e-01, -1.33385514e-01, -1.86192537e-01,\n",
       "         9.58646631e-02, -1.18643211e-01,  1.18984102e-01,\n",
       "         5.85441370e-03, -3.90650128e-02, -8.45025493e-03,\n",
       "        -3.20182465e-02,  8.72831512e-02,  3.61702548e-02,\n",
       "        -4.41035601e-02, -1.82738940e-02,  5.31845262e-03,\n",
       "        -1.10731260e-01,  5.65251768e-03, -5.60489183e-02,\n",
       "        -1.45469320e-01, -6.20715010e-02, -2.88424615e-02,\n",
       "         7.06310381e-02, -3.89728023e-02, -3.51523668e-02,\n",
       "         1.26707312e-01,  4.68391034e-02, -9.65386641e-02,\n",
       "        -3.17888731e-02,  1.36200560e-02, -5.99096942e-03,\n",
       "        -2.12456601e-02, -1.38823184e-02,  4.50064380e-02,\n",
       "        -3.25690971e-02, -1.54962600e-02, -3.14657586e-03,\n",
       "        -4.76112401e-01, -1.11071232e-02,  1.21195583e-01,\n",
       "         5.34109094e-01, -1.13418103e-01,  2.24546865e-01,\n",
       "         2.39674768e-02,  5.13179605e-02, -3.13445181e-02,\n",
       "        -7.06040222e-01,  2.14014020e-02,  1.32256614e-01,\n",
       "         5.11936894e-03,  3.57783610e-02, -1.44418730e-01,\n",
       "         7.60780410e-02, -3.88056893e-02, -1.23147334e-02,\n",
       "         1.11421045e-01, -2.42855396e-02, -3.13494336e-02,\n",
       "        -1.12893082e-01,  2.08489880e-02,  3.73308189e-02,\n",
       "        -3.73047940e-01,  1.11468023e-02,  6.77942395e-02,\n",
       "        -1.82427347e-02, -1.00485052e-01, -1.69712267e-01,\n",
       "        -4.73975569e-02, -6.00924997e-02, -1.25137287e-02,\n",
       "        -1.77503905e-01, -4.75350540e-02, -1.15499095e-01,\n",
       "         2.89350989e-01, -2.90860911e-02, -1.83876515e-02,\n",
       "        -2.08440561e-02, -8.01897871e-02,  5.01037654e-02,\n",
       "        -1.53100357e-01, -4.11254225e-02,  4.20633834e-01,\n",
       "        -3.85929754e-01, -1.89627392e-01, -2.50074867e-01,\n",
       "         5.15593334e-02,  3.10519173e-02, -5.29451061e-02,\n",
       "        -1.64857344e-02, -3.52661968e-02, -2.87209611e-02,\n",
       "        -1.51491552e-01, -1.31598748e-02, -1.94843714e-01,\n",
       "         9.28522297e-02,  1.10297171e-01,  5.72224438e-01,\n",
       "        -2.65001574e-02,  1.52165494e-02, -3.86987288e-02,\n",
       "         5.55367906e-02,  4.83526502e-02, -5.42634918e-02,\n",
       "        -2.13182608e-01,  3.94572741e-02, -1.41615989e-01,\n",
       "         1.85543737e-02, -5.50535519e-02, -7.58124262e-02,\n",
       "        -4.28161995e-02,  4.19979088e-02,  7.73186820e-04,\n",
       "         1.28663699e-02, -3.32164103e-02, -5.89595296e-02,\n",
       "        -1.55758860e-01, -1.31609026e-02, -2.68796921e-01,\n",
       "        -2.48371040e-01, -4.00023536e-02, -6.03589660e-03,\n",
       "        -2.52095712e-01, -6.28141554e-02, -4.66235728e-02,\n",
       "        -2.92956126e-03, -1.49167836e-01, -1.84211431e-03,\n",
       "        -2.91256973e-01, -1.96222931e-01,  1.76840660e-02,\n",
       "         3.50589218e-02,  9.40052061e-01,  3.02809816e-02,\n",
       "         1.24654379e-01, -5.65003346e-03, -1.96980445e-02,\n",
       "        -4.68804566e-03, -2.09077118e-02, -2.96909748e-02,\n",
       "         1.07226128e-01, -3.38244147e-01, -1.49853109e-01,\n",
       "        -3.43306767e-02, -1.69473334e-02,  2.06133952e-01,\n",
       "        -1.77469169e-01,  1.00784437e-02, -1.26835857e-02,\n",
       "        -2.05937167e-01, -5.31417091e-02, -1.68250765e-01,\n",
       "         8.65760202e-02, -8.65307953e-02, -1.71921845e-03,\n",
       "        -2.52921213e-02, -8.97515975e-03, -4.60958991e-02,\n",
       "        -3.51392091e-02,  4.57034686e-02, -4.47376145e-02,\n",
       "        -2.41394127e-02, -2.00579702e-01, -2.57956159e-02,\n",
       "        -4.19784505e-03,  2.65376182e-01, -2.91501721e-02,\n",
       "        -8.26453766e-02,  5.50113739e-01, -2.83980136e-02,\n",
       "        -1.52576648e-02,  1.51036646e-01, -2.57129793e-02,\n",
       "        -1.85841024e-01,  5.56377873e-02,  7.68403732e-02,\n",
       "        -5.59104446e-02,  9.01545296e-02, -1.17846023e-01,\n",
       "        -4.79734220e-02, -1.90956268e-01, -1.23727090e-01,\n",
       "        -4.30731697e-02, -2.00433778e-01, -1.21099769e-01,\n",
       "        -1.03935927e-01, -1.67655665e-02,  6.23923006e-05,\n",
       "         6.79289508e-02, -1.11588393e-01, -4.25306730e-01,\n",
       "         2.32634083e-01,  8.65667495e-03,  9.84690796e-03,\n",
       "        -1.21342955e-01, -1.31267781e-02,  6.41828086e-02,\n",
       "        -4.27141052e-02,  7.32563530e-02, -4.14685904e-02,\n",
       "        -1.61407429e-01, -3.52022170e-01, -1.81227314e-02,\n",
       "        -4.91849350e-01, -9.03615220e-03, -3.65108941e-02,\n",
       "        -3.38350277e-02,  1.43831985e-02,  2.45713603e-02,\n",
       "         6.13646159e-02, -4.55166802e-03,  2.47702347e-01,\n",
       "         4.30266451e-02, -7.17142473e-02, -5.38181699e-02,\n",
       "         1.06942336e-01,  1.32925731e-01, -4.94778623e-02,\n",
       "        -6.41743580e-02,  1.06718749e-02,  1.57008672e-01,\n",
       "        -5.44110350e-02,  1.05965020e-01, -4.24768278e-03,\n",
       "         1.55155605e-01, -1.87260847e-01, -3.06436574e-01,\n",
       "         1.03292627e-01, -3.05577293e-02,  1.66631889e-01,\n",
       "        -6.97352390e-02, -1.75542129e-01, -1.90290387e-02,\n",
       "         1.33568901e-02,  2.84551799e-02,  4.66149403e-03,\n",
       "        -1.36753034e-01,  1.04758132e-02, -4.35703183e-02,\n",
       "        -1.29465327e-02, -6.13450003e-02,  9.37836153e-02,\n",
       "         1.97648700e-01, -2.65739002e-02, -2.43518654e-02,\n",
       "        -1.28592794e-02,  1.52831158e-02, -3.31902625e-02,\n",
       "         1.94447174e-02, -4.32029905e-03, -1.25929370e-02,\n",
       "        -1.05193191e-01, -1.27746239e-01,  4.71865037e-02,\n",
       "        -3.34668361e-03, -1.16654344e-01, -4.90993906e-02,\n",
       "        -3.42170638e-03, -1.67088762e-03,  6.36464486e-02,\n",
       "         3.81386889e-01,  3.78669092e-02,  4.23527144e-01,\n",
       "        -1.31507681e-01, -1.11677647e-01,  4.21765501e-02,\n",
       "        -6.26612944e-02, -1.21402561e-01, -2.37469140e-02,\n",
       "        -2.89899093e-02,  7.48039370e-02, -2.00193741e-02,\n",
       "        -3.31069213e-02, -7.65752750e-02,  2.23404028e-02,\n",
       "        -5.43542694e-02, -2.19691381e-02, -8.09592722e-03,\n",
       "        -2.37495014e-02, -2.43693728e-02, -1.53044570e-02,\n",
       "        -6.40264738e-02, -1.10443516e-01,  1.11362922e-01,\n",
       "        -8.34484998e-03,  7.69396226e-03,  9.37585117e-02,\n",
       "        -1.92324460e-02, -1.11240973e-01, -4.37512557e-02,\n",
       "        -2.21634307e-02,  1.02909146e-01,  2.90883662e-02,\n",
       "        -2.06990454e-01, -2.31666097e-01, -1.06323505e-01,\n",
       "        -3.26741290e-02, -3.24535683e-02,  2.36173163e-01,\n",
       "        -2.02875419e-02, -2.62552468e-02, -3.17627296e-02,\n",
       "         4.06405598e-02,  9.22189063e-02, -2.45845433e-01,\n",
       "        -2.55112154e-01, -1.45049308e-02,  2.31253243e-02,\n",
       "         1.98842894e-02, -8.58615365e-02, -6.73896423e-02,\n",
       "        -1.03356994e-01, -5.38189393e-02,  6.25081468e-02,\n",
       "         2.52324780e-02,  2.30617102e-02,  1.88653389e-01,\n",
       "        -9.75619502e-02, -3.49942437e-02,  4.61496412e-02,\n",
       "         2.80016801e-02, -9.35308100e-04, -1.36468156e-01,\n",
       "        -1.10759895e-01, -1.15020448e-02,  1.27656119e-02,\n",
       "         4.09795239e-01, -1.60664243e-01, -3.59706782e-02,\n",
       "        -1.44282082e-01, -8.64950374e-02,  5.23855317e-01,\n",
       "        -3.82555570e-02,  6.99929483e-02, -4.60228928e-02,\n",
       "        -2.62440942e-02, -4.62365587e-02, -3.64651952e-01,\n",
       "        -1.96952274e-02, -2.14924938e-02,  4.00156431e-03,\n",
       "         1.38975668e-01, -1.17440586e-02,  2.54600550e-02,\n",
       "        -1.90892375e-02,  1.30473835e-01,  2.14127459e-02,\n",
       "         3.81387489e-02, -5.29664210e-02,  1.59374805e-02,\n",
       "        -4.81684582e-02,  1.24449266e-01,  4.15005199e-02,\n",
       "        -1.08485843e-01,  6.03723479e-02,  7.42013904e-02,\n",
       "        -5.94504435e-02, -3.13856880e-02, -6.57589595e-03,\n",
       "         3.37294208e-01,  7.90653290e-02,  2.37197469e-01,\n",
       "        -8.34806275e-02, -8.65430801e-02, -1.86428872e-02,\n",
       "        -1.38563021e-02,  6.79633146e-02,  7.41298534e-03,\n",
       "         1.76030837e-02, -3.73939628e-02,  2.03131880e-02,\n",
       "        -5.03058357e-02, -2.93666699e-02,  5.11186264e-03,\n",
       "         1.95898607e-02, -2.12556165e-01,  7.19791668e-02,\n",
       "         1.26506170e-01, -8.18274976e-03,  8.53926811e-02,\n",
       "        -4.10820421e-03,  4.47241267e-03,  1.83616185e-02,\n",
       "        -5.43921310e-03, -2.52753552e-02, -2.21947371e-02,\n",
       "        -6.50820817e-02, -3.05417101e-01, -3.67072463e-02,\n",
       "         6.03454778e-01,  2.40849338e-01,  5.86874314e-03,\n",
       "        -2.38757089e-01, -2.67516155e-02,  1.19946458e-04,\n",
       "        -2.92514483e-02, -4.00127670e-01, -4.07041061e-03,\n",
       "        -1.07585194e-01, -1.75105306e-01, -1.38698425e-02,\n",
       "         1.56945663e-01, -1.36976333e-02, -1.12495144e-01,\n",
       "        -1.92423498e-02,  1.36152254e-02, -5.45741756e-02,\n",
       "        -1.27196501e-02, -1.15121361e-01, -4.24336633e-02,\n",
       "        -1.13400264e-02,  2.76372240e-01, -1.51570206e-01,\n",
       "        -3.65096451e-02, -2.51088144e-02, -7.64950382e-02,\n",
       "        -1.63142294e-01, -7.96975341e-02, -5.79745241e-02,\n",
       "        -2.15216308e-02, -6.81166460e-02, -4.88964387e-02,\n",
       "        -1.50598195e-01,  4.61660454e-02, -1.56797970e-02,\n",
       "        -2.30720898e-02,  2.56004531e-02,  4.09468657e-02,\n",
       "         6.04072906e-03, -9.90848082e-02,  8.61130231e-02,\n",
       "         8.58140237e-02, -4.07705929e-01, -2.94761271e-01,\n",
       "        -1.57346832e-01, -6.92984829e-02,  9.99748719e-02,\n",
       "        -1.83554784e-02, -9.49324002e-03, -3.04742420e-02,\n",
       "        -5.90696990e-02,  1.75516967e-01,  8.16967542e-02,\n",
       "         8.49062222e-02,  3.02439270e-01, -1.31690607e-01,\n",
       "         2.05292779e-01,  2.05976781e-02,  1.38190433e-01,\n",
       "        -2.98634446e-02,  3.77139040e-03,  9.36717833e-02,\n",
       "        -5.19883797e-02, -2.80897944e-01,  2.34325767e-01,\n",
       "        -2.65734959e-01,  2.02112137e-04,  9.02024772e-02,\n",
       "        -8.80220296e-03, -1.21781886e-01,  4.05935954e-02,\n",
       "         1.29627547e-01,  2.89132980e-02,  5.73933932e-02,\n",
       "        -2.36495475e-02, -2.48160726e-01, -2.81496710e-02,\n",
       "        -4.16958425e-01,  2.99027877e-01, -3.04861156e-02,\n",
       "        -4.61164949e-03, -1.32206234e-01,  6.09715722e-02,\n",
       "        -3.59472120e-01, -1.64317662e-03, -2.98177425e-01,\n",
       "        -5.68195090e-03, -6.96654783e-02, -2.22443237e-01,\n",
       "        -1.35134169e-02,  6.39194953e-02,  1.95924633e-01,\n",
       "        -1.41300582e-01,  9.33262721e-03, -2.40073484e-03,\n",
       "        -2.17804700e-02, -5.47690668e-03,  8.23207621e-03,\n",
       "        -9.91312117e-03,  5.30766460e-01, -3.80768959e-01,\n",
       "        -4.54259034e-02, -1.34963621e-03, -4.31965263e-02,\n",
       "        -1.49161957e-01,  1.66657812e-01,  9.25419449e-02,\n",
       "        -1.62764786e-02, -9.61091752e-02, -3.24674788e-02,\n",
       "        -4.28856648e-01, -3.65546697e-02, -1.18633194e-01,\n",
       "        -3.49261090e-03, -1.96959815e-02, -5.06593403e-03,\n",
       "         1.64495110e-01,  5.57110194e-02, -1.71989606e-02,\n",
       "        -9.56711276e-02, -3.78964894e-02, -1.90492892e-01,\n",
       "         4.03737320e-02, -2.13304327e-01, -2.41513498e-02,\n",
       "         4.27073553e-03, -1.05455574e-01,  1.91360065e-01,\n",
       "        -3.27107447e-02, -2.71825522e-02, -7.62804340e-03,\n",
       "        -2.27397720e-02, -9.23804984e-02,  9.20345621e-03,\n",
       "         2.56974406e-02, -6.44872094e-02, -2.79334709e-02,\n",
       "         2.03936591e-01, -1.54952491e-02,  1.40520261e-01,\n",
       "         3.46194105e-01, -9.92919812e-02, -4.66519775e-02,\n",
       "        -5.79716576e-02, -5.17286661e-03, -4.06601677e-02,\n",
       "        -5.62099658e-02, -1.84579676e-02, -2.24526322e-01,\n",
       "         1.10348138e-02,  6.25725223e-02, -2.50139395e-01,\n",
       "        -1.07987278e-01, -9.18628893e-02,  2.83969607e-02,\n",
       "         1.26680691e-01,  1.58012584e-02, -3.70223975e-01,\n",
       "        -3.31853287e-02,  3.32433402e-01, -6.86708675e-02,\n",
       "        -3.40734474e-02,  1.58335173e-02, -6.95362674e-03,\n",
       "        -2.25533828e-01, -9.27565262e-02, -1.58652556e-02,\n",
       "        -6.85403176e-02,  6.99780913e-02, -6.87268754e-03,\n",
       "        -1.48644773e-01, -3.82130456e-02,  2.48248145e-01,\n",
       "         9.90934028e-02, -1.61155640e-02, -6.28193641e-02,\n",
       "         5.02499000e-02, -6.48574294e-02,  1.68340027e-02,\n",
       "        -2.22395086e-01,  1.92560509e-02,  2.45167473e-01,\n",
       "        -4.33357667e-02, -6.39022241e-02,  1.25782536e-01,\n",
       "        -8.80347539e-02, -1.25728776e-01, -3.56482131e-02,\n",
       "        -2.70421776e-02, -8.24288037e-02,  1.23713219e-01,\n",
       "        -4.51964067e-02, -3.46361489e-02, -2.65352185e-02,\n",
       "        -6.97855094e-03,  1.03470073e-01, -2.66152179e-02,\n",
       "         1.95197741e-01, -2.30862017e-02, -3.10607218e-02,\n",
       "        -3.67257755e-02, -1.11023513e-01, -4.50279989e-01,\n",
       "         8.80170527e-01, -7.92734314e-01,  7.13638820e-01,\n",
       "         3.53727277e-01, -1.09829597e+00, -2.43577568e-01]])"
      ]
     },
     "execution_count": 33,
     "metadata": {},
     "output_type": "execute_result"
    }
   ],
   "source": [
    "pd.DataFrame(coefs)"
   ]
  }
 ],
 "metadata": {
  "kernelspec": {
   "display_name": "Python 3",
   "language": "python",
   "name": "python3"
  },
  "language_info": {
   "codemirror_mode": {
    "name": "ipython",
    "version": 3
   },
   "file_extension": ".py",
   "mimetype": "text/x-python",
   "name": "python",
   "nbconvert_exporter": "python",
   "pygments_lexer": "ipython3",
   "version": "3.7.3"
  },
  "latex_envs": {
   "LaTeX_envs_menu_present": true,
   "autoclose": false,
   "autocomplete": true,
   "bibliofile": "biblio.bib",
   "cite_by": "apalike",
   "current_citInitial": 1,
   "eqLabelWithNumbers": true,
   "eqNumInitial": 1,
   "hotkeys": {
    "equation": "Ctrl-E",
    "itemize": "Ctrl-I"
   },
   "labels_anchors": false,
   "latex_user_defs": false,
   "report_style_numbering": false,
   "user_envs_cfg": false
  },
  "toc": {
   "base_numbering": 1,
   "nav_menu": {},
   "number_sections": true,
   "sideBar": true,
   "skip_h1_title": false,
   "title_cell": "Table of Contents",
   "title_sidebar": "Contents",
   "toc_cell": false,
   "toc_position": {},
   "toc_section_display": true,
   "toc_window_display": false
  },
  "varInspector": {
   "cols": {
    "lenName": 16,
    "lenType": 16,
    "lenVar": 40
   },
   "kernels_config": {
    "python": {
     "delete_cmd_postfix": "",
     "delete_cmd_prefix": "del ",
     "library": "var_list.py",
     "varRefreshCmd": "print(var_dic_list())"
    },
    "r": {
     "delete_cmd_postfix": ") ",
     "delete_cmd_prefix": "rm(",
     "library": "var_list.r",
     "varRefreshCmd": "cat(var_dic_list()) "
    }
   },
   "types_to_exclude": [
    "module",
    "function",
    "builtin_function_or_method",
    "instance",
    "_Feature"
   ],
   "window_display": false
  }
 },
 "nbformat": 4,
 "nbformat_minor": 2
}
