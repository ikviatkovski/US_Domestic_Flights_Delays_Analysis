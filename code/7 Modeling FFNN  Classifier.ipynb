{
 "cells": [
  {
   "cell_type": "markdown",
   "metadata": {},
   "source": [
    "# Table of Content #\n",
    "\n",
    "- [Importing Necessary Libraries](#Importing-Necessary-Libraries)\n",
    "- [Importing Data and Initial Checks](#Importing-Data-and-Initial-Checks)\n",
    "- [Target Variable and Features Matrix](#Target-Variable-and-Features-Matrix)"
   ]
  },
  {
   "cell_type": "markdown",
   "metadata": {},
   "source": [
    "## Importing Necessary Libraries ##"
   ]
  },
  {
   "cell_type": "code",
   "execution_count": 1,
   "metadata": {},
   "outputs": [
    {
     "name": "stderr",
     "output_type": "stream",
     "text": [
      "Using TensorFlow backend.\n"
     ]
    }
   ],
   "source": [
    "import pandas as pd\n",
    "import numpy as np\n",
    "\n",
    "\n",
    "import matplotlib.pyplot as plt\n",
    "import seaborn as sns\n",
    "\n",
    "plt.style.use('fivethirtyeight')\n",
    "\n",
    "%matplotlib inline\n",
    "%config InlineBackend.figure_format = 'retina'\n",
    "\n",
    "from sklearn.pipeline                import Pipeline\n",
    "from sklearn.model_selection         import train_test_split, GridSearchCV\n",
    "from sklearn.linear_model            import LogisticRegression\n",
    "from sklearn.ensemble                import BaggingClassifier,RandomForestClassifier,ExtraTreesClassifier,AdaBoostClassifier,GradientBoostingClassifier\n",
    "\n",
    "from sklearn.tree                    import DecisionTreeClassifier\n",
    "from sklearn.svm                     import SVC\n",
    "\n",
    "import warnings\n",
    "\n",
    "warnings.simplefilter(action='ignore', category=FutureWarning)\n",
    "\n",
    "from sklearn.preprocessing import StandardScaler\n",
    "from tensorflow.keras.models import Sequential\n",
    "from tensorflow.keras.layers import Dense\n",
    "from tensorflow.keras.utils import to_categorical\n",
    "\n",
    "from keras.callbacks import EarlyStopping\n",
    "from keras.layers import Dropout"
   ]
  },
  {
   "cell_type": "markdown",
   "metadata": {},
   "source": [
    "## Importing Data and Initial Checks ##"
   ]
  },
  {
   "cell_type": "code",
   "execution_count": 2,
   "metadata": {},
   "outputs": [
    {
     "data": {
      "text/plain": [
       "(644232, 11)"
      ]
     },
     "execution_count": 2,
     "metadata": {},
     "output_type": "execute_result"
    }
   ],
   "source": [
    "#Loading data from a csv file\n",
    "data = pd.read_csv('~/ga/projects/capstone_data/data/data_ready.csv')\n",
    "\n",
    "#Checking size\n",
    "data.shape"
   ]
  },
  {
   "cell_type": "code",
   "execution_count": 3,
   "metadata": {},
   "outputs": [
    {
     "data": {
      "text/plain": [
       "Index(['Unnamed: 0', 'month', 'day_of_month', 'day_of_week',\n",
       "       'op_carrier_fl_num', 'origin', 'dest', 'arr_delay', 'delay_indicator',\n",
       "       'distance', 'carrier'],\n",
       "      dtype='object')"
      ]
     },
     "execution_count": 3,
     "metadata": {},
     "output_type": "execute_result"
    }
   ],
   "source": [
    "#Checking columns\n",
    "data.columns"
   ]
  },
  {
   "cell_type": "code",
   "execution_count": 4,
   "metadata": {},
   "outputs": [
    {
     "data": {
      "text/html": [
       "<div>\n",
       "<style scoped>\n",
       "    .dataframe tbody tr th:only-of-type {\n",
       "        vertical-align: middle;\n",
       "    }\n",
       "\n",
       "    .dataframe tbody tr th {\n",
       "        vertical-align: top;\n",
       "    }\n",
       "\n",
       "    .dataframe thead th {\n",
       "        text-align: right;\n",
       "    }\n",
       "</style>\n",
       "<table border=\"1\" class=\"dataframe\">\n",
       "  <thead>\n",
       "    <tr style=\"text-align: right;\">\n",
       "      <th></th>\n",
       "      <th>month</th>\n",
       "      <th>day_of_month</th>\n",
       "      <th>day_of_week</th>\n",
       "      <th>op_carrier_fl_num</th>\n",
       "      <th>origin</th>\n",
       "      <th>dest</th>\n",
       "      <th>arr_delay</th>\n",
       "      <th>delay_indicator</th>\n",
       "      <th>distance</th>\n",
       "      <th>carrier</th>\n",
       "    </tr>\n",
       "  </thead>\n",
       "  <tbody>\n",
       "    <tr>\n",
       "      <th>0</th>\n",
       "      <td>10</td>\n",
       "      <td>3</td>\n",
       "      <td>3</td>\n",
       "      <td>4195</td>\n",
       "      <td>LEX</td>\n",
       "      <td>ORD</td>\n",
       "      <td>-15.0</td>\n",
       "      <td>0.0</td>\n",
       "      <td>323.0</td>\n",
       "      <td>American</td>\n",
       "    </tr>\n",
       "    <tr>\n",
       "      <th>1</th>\n",
       "      <td>11</td>\n",
       "      <td>5</td>\n",
       "      <td>1</td>\n",
       "      <td>6002</td>\n",
       "      <td>DFW</td>\n",
       "      <td>CHA</td>\n",
       "      <td>-7.0</td>\n",
       "      <td>0.0</td>\n",
       "      <td>695.0</td>\n",
       "      <td>American</td>\n",
       "    </tr>\n",
       "    <tr>\n",
       "      <th>2</th>\n",
       "      <td>11</td>\n",
       "      <td>4</td>\n",
       "      <td>7</td>\n",
       "      <td>1937</td>\n",
       "      <td>ORD</td>\n",
       "      <td>AUS</td>\n",
       "      <td>-24.0</td>\n",
       "      <td>0.0</td>\n",
       "      <td>977.0</td>\n",
       "      <td>United</td>\n",
       "    </tr>\n",
       "    <tr>\n",
       "      <th>3</th>\n",
       "      <td>10</td>\n",
       "      <td>13</td>\n",
       "      <td>6</td>\n",
       "      <td>948</td>\n",
       "      <td>SFO</td>\n",
       "      <td>DEN</td>\n",
       "      <td>-3.0</td>\n",
       "      <td>0.0</td>\n",
       "      <td>967.0</td>\n",
       "      <td>United</td>\n",
       "    </tr>\n",
       "    <tr>\n",
       "      <th>4</th>\n",
       "      <td>11</td>\n",
       "      <td>9</td>\n",
       "      <td>5</td>\n",
       "      <td>1026</td>\n",
       "      <td>HOU</td>\n",
       "      <td>ABQ</td>\n",
       "      <td>-8.0</td>\n",
       "      <td>0.0</td>\n",
       "      <td>759.0</td>\n",
       "      <td>SouthWest</td>\n",
       "    </tr>\n",
       "  </tbody>\n",
       "</table>\n",
       "</div>"
      ],
      "text/plain": [
       "   month  day_of_month  day_of_week  op_carrier_fl_num origin dest  arr_delay  \\\n",
       "0     10             3            3               4195    LEX  ORD      -15.0   \n",
       "1     11             5            1               6002    DFW  CHA       -7.0   \n",
       "2     11             4            7               1937    ORD  AUS      -24.0   \n",
       "3     10            13            6                948    SFO  DEN       -3.0   \n",
       "4     11             9            5               1026    HOU  ABQ       -8.0   \n",
       "\n",
       "   delay_indicator  distance    carrier  \n",
       "0              0.0     323.0   American  \n",
       "1              0.0     695.0   American  \n",
       "2              0.0     977.0     United  \n",
       "3              0.0     967.0     United  \n",
       "4              0.0     759.0  SouthWest  "
      ]
     },
     "execution_count": 4,
     "metadata": {},
     "output_type": "execute_result"
    }
   ],
   "source": [
    "#Dropping a technical column\n",
    "data.drop(columns = ['Unnamed: 0'], axis=1, inplace=True)\n",
    "\n",
    "#Checking DataFrame\n",
    "data.head()"
   ]
  },
  {
   "cell_type": "markdown",
   "metadata": {},
   "source": [
    "## Target Variable and Features Matrix ##"
   ]
  },
  {
   "cell_type": "markdown",
   "metadata": {},
   "source": [
    "In order to fit a logistic regression we need to use our **DELAY_INDICATOR** as our target variable. We also need to drop ARR_DELAY from our features as our target variable was efficiently engineered from it."
   ]
  },
  {
   "cell_type": "code",
   "execution_count": 5,
   "metadata": {},
   "outputs": [],
   "source": [
    "#Target variable\n",
    "y = data['delay_indicator']\n",
    "\n",
    "#Features matrix\n",
    "X = data.drop(columns=['delay_indicator','arr_delay'])"
   ]
  },
  {
   "cell_type": "code",
   "execution_count": 6,
   "metadata": {},
   "outputs": [
    {
     "data": {
      "text/plain": [
       "0.5"
      ]
     },
     "execution_count": 6,
     "metadata": {},
     "output_type": "execute_result"
    }
   ],
   "source": [
    "#Baseline model accuracy\n",
    "y.mean()"
   ]
  },
  {
   "cell_type": "code",
   "execution_count": 7,
   "metadata": {},
   "outputs": [
    {
     "data": {
      "text/plain": [
       "month                  int64\n",
       "day_of_month           int64\n",
       "day_of_week            int64\n",
       "op_carrier_fl_num      int64\n",
       "origin                object\n",
       "dest                  object\n",
       "distance             float64\n",
       "carrier               object\n",
       "dtype: object"
      ]
     },
     "execution_count": 7,
     "metadata": {},
     "output_type": "execute_result"
    }
   ],
   "source": [
    "#Checking our feature matrix data types\n",
    "X.dtypes"
   ]
  },
  {
   "cell_type": "code",
   "execution_count": 8,
   "metadata": {},
   "outputs": [
    {
     "data": {
      "text/plain": [
       "(644232, 712)"
      ]
     },
     "execution_count": 8,
     "metadata": {},
     "output_type": "execute_result"
    }
   ],
   "source": [
    "#Getting dummies for our text features ORIGIN, DEST and CARRIER\n",
    "X = pd.get_dummies(X,columns = ['origin','dest','carrier'],drop_first=True)\n",
    "\n",
    "#Checking the shape of our feature matrix\n",
    "X.shape"
   ]
  },
  {
   "cell_type": "code",
   "execution_count": 9,
   "metadata": {},
   "outputs": [],
   "source": [
    "#Training and testing sets split with random_state=1519 for reproduceability of results \n",
    "X_train, X_test, y_train, y_test = train_test_split(X, y, random_state=1519)"
   ]
  },
  {
   "cell_type": "code",
   "execution_count": 10,
   "metadata": {},
   "outputs": [],
   "source": [
    "#As an additional step, we need to scale our feature matrices modeling\n",
    "ss = StandardScaler()\n",
    "X_train = pd.DataFrame(ss.fit_transform(X_train),columns = X.columns)\n",
    "# X_train = ss.fit_transform(X_train)\n",
    "X_test = pd.DataFrame(ss.transform(X_test),columns = X.columns)"
   ]
  },
  {
   "cell_type": "markdown",
   "metadata": {},
   "source": [
    "## FFNN ##"
   ]
  },
  {
   "cell_type": "code",
   "execution_count": 11,
   "metadata": {},
   "outputs": [],
   "source": [
    "model = Sequential()\n",
    "\n",
    "model.add(Dense(128,\n",
    "         input_shape = (712,),\n",
    "         activation = 'relu'))\n",
    "\n",
    "# model.add(Dropout(0.25))\n",
    "\n",
    "model.add(Dense(64,\n",
    "               activation='relu'))\n",
    "\n",
    "# model.add(Dropout(0.25))\n",
    "\n",
    "model.add(Dense(1,\n",
    "               activation = 'sigmoid'))\n",
    "\n",
    "early_stop = EarlyStopping(monitor='val_loss', min_delta=0.001, patience=5, verbose=1, mode='auto')\n",
    "\n",
    "model.compile(loss='binary_crossentropy',\n",
    "              optimizer='adam',\n",
    "              metrics=['accuracy']\n",
    "             )"
   ]
  },
  {
   "cell_type": "code",
   "execution_count": 12,
   "metadata": {},
   "outputs": [
    {
     "name": "stdout",
     "output_type": "stream",
     "text": [
      "WARNING:tensorflow:Falling back from v2 loop because of error: Failed to find data adapter that can handle input: <class 'pandas.core.frame.DataFrame'>, <class 'NoneType'>\n",
      "Train on 483174 samples, validate on 161058 samples\n",
      "Epoch 1/100\n",
      "483174/483174 - 23s - loss: 0.6822 - accuracy: 0.5672 - val_loss: 0.6755 - val_accuracy: 0.5765\n",
      "Epoch 2/100\n",
      "483174/483174 - 27s - loss: 0.6702 - accuracy: 0.5869 - val_loss: 0.6691 - val_accuracy: 0.5888\n",
      "Epoch 3/100\n",
      "483174/483174 - 24s - loss: 0.6644 - accuracy: 0.5972 - val_loss: 0.6661 - val_accuracy: 0.5940\n",
      "Epoch 4/100\n",
      "483174/483174 - 23s - loss: 0.6590 - accuracy: 0.6059 - val_loss: 0.6611 - val_accuracy: 0.6031\n",
      "Epoch 5/100\n",
      "483174/483174 - 22s - loss: 0.6524 - accuracy: 0.6142 - val_loss: 0.6585 - val_accuracy: 0.6072\n",
      "Epoch 6/100\n",
      "483174/483174 - 23s - loss: 0.6466 - accuracy: 0.6216 - val_loss: 0.6553 - val_accuracy: 0.6119\n",
      "Epoch 7/100\n",
      "483174/483174 - 23s - loss: 0.6414 - accuracy: 0.6291 - val_loss: 0.6541 - val_accuracy: 0.6123\n",
      "Epoch 8/100\n",
      "483174/483174 - 23s - loss: 0.6369 - accuracy: 0.6347 - val_loss: 0.6523 - val_accuracy: 0.6161\n",
      "Epoch 9/100\n",
      "483174/483174 - 24s - loss: 0.6327 - accuracy: 0.6399 - val_loss: 0.6506 - val_accuracy: 0.6206\n",
      "Epoch 10/100\n",
      "483174/483174 - 25s - loss: 0.6293 - accuracy: 0.6431 - val_loss: 0.6504 - val_accuracy: 0.6192\n",
      "Epoch 11/100\n",
      "483174/483174 - 23s - loss: 0.6259 - accuracy: 0.6470 - val_loss: 0.6501 - val_accuracy: 0.6211\n",
      "Epoch 12/100\n",
      "483174/483174 - 24s - loss: 0.6226 - accuracy: 0.6501 - val_loss: 0.6496 - val_accuracy: 0.6219\n",
      "Epoch 13/100\n",
      "483174/483174 - 25s - loss: 0.6201 - accuracy: 0.6538 - val_loss: 0.6489 - val_accuracy: 0.6232\n",
      "Epoch 14/100\n",
      "483174/483174 - 24s - loss: 0.6175 - accuracy: 0.6556 - val_loss: 0.6497 - val_accuracy: 0.6223\n",
      "Epoch 15/100\n",
      "483174/483174 - 25s - loss: 0.6151 - accuracy: 0.6580 - val_loss: 0.6494 - val_accuracy: 0.6245\n",
      "Epoch 16/100\n",
      "483174/483174 - 25s - loss: 0.6126 - accuracy: 0.6601 - val_loss: 0.6513 - val_accuracy: 0.6230\n",
      "Epoch 17/100\n",
      "483174/483174 - 24s - loss: 0.6107 - accuracy: 0.6624 - val_loss: 0.6494 - val_accuracy: 0.6263\n",
      "Epoch 00017: early stopping\n"
     ]
    }
   ],
   "source": [
    "history = model.fit(\n",
    "    X_train,\n",
    "    y_train,\n",
    "    validation_data=(X_test, y_test),\n",
    "    epochs=100,\n",
    "    batch_size=512,\n",
    "    verbose=2,\n",
    "    callbacks=[early_stop]\n",
    ")"
   ]
  },
  {
   "cell_type": "code",
   "execution_count": null,
   "metadata": {},
   "outputs": [],
   "source": []
  }
 ],
 "metadata": {
  "kernelspec": {
   "display_name": "Python 3",
   "language": "python",
   "name": "python3"
  },
  "language_info": {
   "codemirror_mode": {
    "name": "ipython",
    "version": 3
   },
   "file_extension": ".py",
   "mimetype": "text/x-python",
   "name": "python",
   "nbconvert_exporter": "python",
   "pygments_lexer": "ipython3",
   "version": "3.7.5"
  },
  "latex_envs": {
   "LaTeX_envs_menu_present": true,
   "autoclose": false,
   "autocomplete": true,
   "bibliofile": "biblio.bib",
   "cite_by": "apalike",
   "current_citInitial": 1,
   "eqLabelWithNumbers": true,
   "eqNumInitial": 1,
   "hotkeys": {
    "equation": "Ctrl-E",
    "itemize": "Ctrl-I"
   },
   "labels_anchors": false,
   "latex_user_defs": false,
   "report_style_numbering": false,
   "user_envs_cfg": false
  },
  "toc": {
   "base_numbering": 1,
   "nav_menu": {},
   "number_sections": true,
   "sideBar": true,
   "skip_h1_title": false,
   "title_cell": "Table of Contents",
   "title_sidebar": "Contents",
   "toc_cell": false,
   "toc_position": {},
   "toc_section_display": true,
   "toc_window_display": false
  },
  "varInspector": {
   "cols": {
    "lenName": 16,
    "lenType": 16,
    "lenVar": 40
   },
   "kernels_config": {
    "python": {
     "delete_cmd_postfix": "",
     "delete_cmd_prefix": "del ",
     "library": "var_list.py",
     "varRefreshCmd": "print(var_dic_list())"
    },
    "r": {
     "delete_cmd_postfix": ") ",
     "delete_cmd_prefix": "rm(",
     "library": "var_list.r",
     "varRefreshCmd": "cat(var_dic_list()) "
    }
   },
   "types_to_exclude": [
    "module",
    "function",
    "builtin_function_or_method",
    "instance",
    "_Feature"
   ],
   "window_display": false
  }
 },
 "nbformat": 4,
 "nbformat_minor": 2
}
