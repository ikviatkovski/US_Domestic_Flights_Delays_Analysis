{
 "cells": [
  {
   "cell_type": "code",
   "execution_count": 1,
   "metadata": {},
   "outputs": [],
   "source": [
    "import pandas as pd\n",
    "import numpy as np\n",
    "\n",
    "\n",
    "import matplotlib.pyplot as plt\n",
    "import seaborn as sns\n",
    "\n",
    "plt.style.use('fivethirtyeight')\n",
    "\n",
    "%matplotlib inline\n",
    "%config InlineBackend.figure_format = 'retina'\n",
    "\n",
    "from sklearn.pipeline                import Pipeline\n",
    "from sklearn.model_selection         import train_test_split, GridSearchCV\n",
    "from sklearn.linear_model            import LogisticRegression\n",
    "from sklearn.ensemble                import BaggingClassifier,RandomForestClassifier,ExtraTreesClassifier,AdaBoostClassifier,GradientBoostingClassifier\n",
    "\n",
    "from sklearn.tree                    import DecisionTreeClassifier\n",
    "from sklearn.svm                     import SVC\n",
    "\n",
    "import warnings\n",
    "\n",
    "warnings.simplefilter(action='ignore', category=FutureWarning)"
   ]
  },
  {
   "cell_type": "code",
   "execution_count": 2,
   "metadata": {},
   "outputs": [],
   "source": [
    "from sklearn.preprocessing import StandardScaler\n",
    "\n",
    "\n",
    "\n",
    "from tensorflow.keras.models import Sequential\n",
    "from tensorflow.keras.layers import Dense\n",
    "from tensorflow.keras.utils import to_categorical"
   ]
  },
  {
   "cell_type": "code",
   "execution_count": 3,
   "metadata": {},
   "outputs": [],
   "source": [
    "data = pd.read_csv('~/ga/projects/capstone_data/data/data_model.csv')"
   ]
  },
  {
   "cell_type": "code",
   "execution_count": 4,
   "metadata": {},
   "outputs": [
    {
     "data": {
      "text/plain": [
       "Index(['Unnamed: 0', 'month', 'day_of_month', 'day_of_week', 'fl_date',\n",
       "       'op_carrier', 'op_carrier_fl_num', 'origin', 'origin_city_name',\n",
       "       'origin_state_abr', 'origin_state_nm', 'dest', 'dest_city_name',\n",
       "       'dest_state_abr', 'dest_state_nm', 'dep_delay', 'arr_delay', 'distance',\n",
       "       'carrier_delay', 'weather_delay', 'nas_delay', 'security_delay',\n",
       "       'late_aircraft_delay', 'carrier', 'total_delay'],\n",
       "      dtype='object')"
      ]
     },
     "execution_count": 4,
     "metadata": {},
     "output_type": "execute_result"
    }
   ],
   "source": [
    "data.columns"
   ]
  },
  {
   "cell_type": "code",
   "execution_count": 5,
   "metadata": {},
   "outputs": [],
   "source": [
    "data.drop(columns = ['Unnamed: 0'], inplace=True)"
   ]
  },
  {
   "cell_type": "code",
   "execution_count": 6,
   "metadata": {},
   "outputs": [],
   "source": [
    "data['delay_indicator'] = np.where(data['total_delay']>14,1,0)"
   ]
  },
  {
   "cell_type": "code",
   "execution_count": 7,
   "metadata": {},
   "outputs": [
    {
     "data": {
      "text/plain": [
       "0    0.818538\n",
       "1    0.181462\n",
       "Name: delay_indicator, dtype: float64"
      ]
     },
     "execution_count": 7,
     "metadata": {},
     "output_type": "execute_result"
    }
   ],
   "source": [
    "data['delay_indicator'].value_counts(normalize=True)"
   ]
  },
  {
   "cell_type": "code",
   "execution_count": 8,
   "metadata": {},
   "outputs": [
    {
     "data": {
      "text/plain": [
       "(644232, 25)"
      ]
     },
     "execution_count": 8,
     "metadata": {},
     "output_type": "execute_result"
    }
   ],
   "source": [
    "data_negative = data[data['delay_indicator'] == 1]\n",
    "\n",
    "data_pozitive = data[data['delay_indicator'] == 0].sample(data_negative.shape[0])\n",
    "\n",
    "data_balanced = pd.concat([data_pozitive,data_negative])\n",
    "data_balanced.shape"
   ]
  },
  {
   "cell_type": "code",
   "execution_count": 9,
   "metadata": {},
   "outputs": [],
   "source": [
    "X = data_balanced.drop(columns=['delay_indicator', 'total_delay','dep_delay','arr_delay'])\n",
    "y = data_balanced['delay_indicator']"
   ]
  },
  {
   "cell_type": "code",
   "execution_count": 10,
   "metadata": {},
   "outputs": [],
   "source": [
    "X = pd.get_dummies(X,columns = ['origin','dest','carrier'],drop_first=True )"
   ]
  },
  {
   "cell_type": "code",
   "execution_count": 11,
   "metadata": {},
   "outputs": [
    {
     "data": {
      "text/plain": [
       "(644232, 717)"
      ]
     },
     "execution_count": 11,
     "metadata": {},
     "output_type": "execute_result"
    }
   ],
   "source": [
    "X = X._get_numeric_data()\n",
    "X.shape"
   ]
  },
  {
   "cell_type": "code",
   "execution_count": 12,
   "metadata": {},
   "outputs": [],
   "source": [
    "X_train, X_test, y_train, y_test = train_test_split(X, y)"
   ]
  },
  {
   "cell_type": "code",
   "execution_count": 13,
   "metadata": {},
   "outputs": [],
   "source": [
    "ss = StandardScaler()\n",
    "X_train_sc = ss.fit_transform(X_train)\n",
    "X_test_sc = ss.transform(X_test)"
   ]
  },
  {
   "cell_type": "markdown",
   "metadata": {},
   "source": [
    "## FFNN ##"
   ]
  },
  {
   "cell_type": "code",
   "execution_count": 14,
   "metadata": {},
   "outputs": [],
   "source": [
    "model = Sequential()\n",
    "\n",
    "model.add(Dense(32,\n",
    "         input_shape = (717,),\n",
    "         activation = 'relu'))\n",
    "\n",
    "model.add(Dense(32,\n",
    "               activation='relu'))\n",
    "\n",
    "model.add(Dense(1,\n",
    "               activation = 'sigmoid'))\n",
    "\n",
    "model.compile(loss='binary_crossentropy',\n",
    "              optimizer='adam',\n",
    "              metrics=['accuracy'])"
   ]
  },
  {
   "cell_type": "code",
   "execution_count": 18,
   "metadata": {},
   "outputs": [
    {
     "name": "stdout",
     "output_type": "stream",
     "text": [
      "WARNING:tensorflow:Falling back from v2 loop because of error: Failed to find data adapter that can handle input: <class 'pandas.core.frame.DataFrame'>, <class 'NoneType'>\n",
      "Train on 483174 samples, validate on 161058 samples\n",
      "Epoch 1/10\n",
      "483174/483174 - 42s - loss: 0.6658 - accuracy: 0.7316 - val_loss: 0.3154 - val_accuracy: 0.9764\n",
      "Epoch 2/10\n",
      "483174/483174 - 28s - loss: 0.1787 - accuracy: 0.9646 - val_loss: 0.1198 - val_accuracy: 0.9847\n",
      "Epoch 3/10\n",
      "483174/483174 - 19s - loss: 0.1065 - accuracy: 0.9751 - val_loss: 0.0666 - val_accuracy: 0.9858\n",
      "Epoch 4/10\n",
      "483174/483174 - 19s - loss: 0.1128 - accuracy: 0.9724 - val_loss: 0.5135 - val_accuracy: 0.8027\n",
      "Epoch 5/10\n",
      "483174/483174 - 18s - loss: 0.1030 - accuracy: 0.9760 - val_loss: 0.0652 - val_accuracy: 0.9858\n",
      "Epoch 6/10\n",
      "483174/483174 - 20s - loss: 0.0698 - accuracy: 0.9857 - val_loss: 0.0657 - val_accuracy: 0.9858\n",
      "Epoch 7/10\n",
      "483174/483174 - 19s - loss: 0.0953 - accuracy: 0.9783 - val_loss: 0.0828 - val_accuracy: 0.9856\n",
      "Epoch 8/10\n",
      "483174/483174 - 18s - loss: 0.1048 - accuracy: 0.9755 - val_loss: 0.0642 - val_accuracy: 0.9858\n",
      "Epoch 9/10\n",
      "483174/483174 - 20s - loss: 0.0921 - accuracy: 0.9795 - val_loss: 0.0870 - val_accuracy: 0.9858\n",
      "Epoch 10/10\n",
      "483174/483174 - 22s - loss: 0.0899 - accuracy: 0.9802 - val_loss: 0.0714 - val_accuracy: 0.9858\n"
     ]
    }
   ],
   "source": [
    "history = model.fit(\n",
    "    X_train,\n",
    "    y_train,\n",
    "    validation_data=(X_test, y_test),\n",
    "    epochs=10,\n",
    "    batch_size=512,\n",
    "    verbose=2\n",
    ")"
   ]
  },
  {
   "cell_type": "code",
   "execution_count": null,
   "metadata": {},
   "outputs": [],
   "source": []
  }
 ],
 "metadata": {
  "kernelspec": {
   "display_name": "Python 3",
   "language": "python",
   "name": "python3"
  },
  "language_info": {
   "codemirror_mode": {
    "name": "ipython",
    "version": 3
   },
   "file_extension": ".py",
   "mimetype": "text/x-python",
   "name": "python",
   "nbconvert_exporter": "python",
   "pygments_lexer": "ipython3",
   "version": "3.7.3"
  },
  "latex_envs": {
   "LaTeX_envs_menu_present": true,
   "autoclose": false,
   "autocomplete": true,
   "bibliofile": "biblio.bib",
   "cite_by": "apalike",
   "current_citInitial": 1,
   "eqLabelWithNumbers": true,
   "eqNumInitial": 1,
   "hotkeys": {
    "equation": "Ctrl-E",
    "itemize": "Ctrl-I"
   },
   "labels_anchors": false,
   "latex_user_defs": false,
   "report_style_numbering": false,
   "user_envs_cfg": false
  },
  "toc": {
   "base_numbering": 1,
   "nav_menu": {},
   "number_sections": true,
   "sideBar": true,
   "skip_h1_title": false,
   "title_cell": "Table of Contents",
   "title_sidebar": "Contents",
   "toc_cell": false,
   "toc_position": {},
   "toc_section_display": true,
   "toc_window_display": false
  },
  "varInspector": {
   "cols": {
    "lenName": 16,
    "lenType": 16,
    "lenVar": 40
   },
   "kernels_config": {
    "python": {
     "delete_cmd_postfix": "",
     "delete_cmd_prefix": "del ",
     "library": "var_list.py",
     "varRefreshCmd": "print(var_dic_list())"
    },
    "r": {
     "delete_cmd_postfix": ") ",
     "delete_cmd_prefix": "rm(",
     "library": "var_list.r",
     "varRefreshCmd": "cat(var_dic_list()) "
    }
   },
   "types_to_exclude": [
    "module",
    "function",
    "builtin_function_or_method",
    "instance",
    "_Feature"
   ],
   "window_display": false
  }
 },
 "nbformat": 4,
 "nbformat_minor": 2
}
