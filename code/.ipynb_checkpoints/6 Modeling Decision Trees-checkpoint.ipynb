{
 "cells": [
  {
   "cell_type": "markdown",
   "metadata": {},
   "source": [
    "# Table of Content #\n",
    "\n",
    "- [Importing Necessary Libraries](#Importing-Necessary-Libraries)\n",
    "- [Importing Data and Initial Checks](#Importing-Data-and-Initial-Checks)\n",
    "- [Target Variable and Features Matrix](#Target-Variable-and-Features-Matrix)\n",
    "- [Decision-Tree-Classifier](#Decision-Tree-Classifier)\n",
    "- [Bagging-Classifier](#Bagging-Classifier)\n",
    "- [Random Forest Classifier](#Random-Forest-Classifier)"
   ]
  },
  {
   "cell_type": "markdown",
   "metadata": {},
   "source": [
    "## Importing Necessary Libraries ##"
   ]
  },
  {
   "cell_type": "code",
   "execution_count": 29,
   "metadata": {},
   "outputs": [],
   "source": [
    "import pandas as pd\n",
    "import numpy as np\n",
    "\n",
    "import matplotlib.pyplot as plt\n",
    "import seaborn as sns\n",
    "\n",
    "plt.style.use('fivethirtyeight')\n",
    "\n",
    "%matplotlib inline\n",
    "%config InlineBackend.figure_format = 'retina'\n",
    "\n",
    "from sklearn.pipeline                import Pipeline\n",
    "from sklearn.model_selection         import train_test_split, GridSearchCV\n",
    "from sklearn.linear_model            import LogisticRegression\n",
    "from sklearn.ensemble                import BaggingClassifier,RandomForestClassifier,ExtraTreesClassifier,AdaBoostClassifier,GradientBoostingClassifier\n",
    "\n",
    "from sklearn.tree                    import DecisionTreeClassifier\n",
    "from sklearn.svm                     import SVC\n",
    "\n",
    "import xgboost as xgb\n",
    "\n",
    "import warnings\n",
    "\n",
    "warnings.simplefilter(action='ignore', category=FutureWarning)"
   ]
  },
  {
   "cell_type": "markdown",
   "metadata": {},
   "source": [
    "## Importing Data and Initial Checks ##"
   ]
  },
  {
   "cell_type": "code",
   "execution_count": 2,
   "metadata": {},
   "outputs": [
    {
     "data": {
      "text/plain": [
       "(650556, 11)"
      ]
     },
     "execution_count": 2,
     "metadata": {},
     "output_type": "execute_result"
    }
   ],
   "source": [
    "#Loading data from a csv file\n",
    "data = pd.read_csv('~/ga/projects/capstone_data/data/data_ready.csv')\n",
    "\n",
    "#Checking size\n",
    "data.shape"
   ]
  },
  {
   "cell_type": "code",
   "execution_count": 3,
   "metadata": {},
   "outputs": [
    {
     "data": {
      "text/plain": [
       "Index(['Unnamed: 0', 'month', 'day_of_month', 'day_of_week',\n",
       "       'op_carrier_fl_num', 'origin', 'dest', 'arr_delay', 'distance',\n",
       "       'carrier', 'delay_indicator'],\n",
       "      dtype='object')"
      ]
     },
     "execution_count": 3,
     "metadata": {},
     "output_type": "execute_result"
    }
   ],
   "source": [
    "#Checking columns\n",
    "data.columns"
   ]
  },
  {
   "cell_type": "code",
   "execution_count": 4,
   "metadata": {},
   "outputs": [
    {
     "data": {
      "text/html": [
       "<div>\n",
       "<style scoped>\n",
       "    .dataframe tbody tr th:only-of-type {\n",
       "        vertical-align: middle;\n",
       "    }\n",
       "\n",
       "    .dataframe tbody tr th {\n",
       "        vertical-align: top;\n",
       "    }\n",
       "\n",
       "    .dataframe thead th {\n",
       "        text-align: right;\n",
       "    }\n",
       "</style>\n",
       "<table border=\"1\" class=\"dataframe\">\n",
       "  <thead>\n",
       "    <tr style=\"text-align: right;\">\n",
       "      <th></th>\n",
       "      <th>month</th>\n",
       "      <th>day_of_month</th>\n",
       "      <th>day_of_week</th>\n",
       "      <th>op_carrier_fl_num</th>\n",
       "      <th>origin</th>\n",
       "      <th>dest</th>\n",
       "      <th>arr_delay</th>\n",
       "      <th>distance</th>\n",
       "      <th>carrier</th>\n",
       "      <th>delay_indicator</th>\n",
       "    </tr>\n",
       "  </thead>\n",
       "  <tbody>\n",
       "    <tr>\n",
       "      <th>0</th>\n",
       "      <td>11</td>\n",
       "      <td>29</td>\n",
       "      <td>4</td>\n",
       "      <td>3539</td>\n",
       "      <td>GEG</td>\n",
       "      <td>SLC</td>\n",
       "      <td>-13.0</td>\n",
       "      <td>546.0</td>\n",
       "      <td>Delta</td>\n",
       "      <td>0</td>\n",
       "    </tr>\n",
       "    <tr>\n",
       "      <th>1</th>\n",
       "      <td>11</td>\n",
       "      <td>3</td>\n",
       "      <td>6</td>\n",
       "      <td>3614</td>\n",
       "      <td>TPA</td>\n",
       "      <td>RDU</td>\n",
       "      <td>-14.0</td>\n",
       "      <td>587.0</td>\n",
       "      <td>Delta</td>\n",
       "      <td>0</td>\n",
       "    </tr>\n",
       "    <tr>\n",
       "      <th>2</th>\n",
       "      <td>12</td>\n",
       "      <td>19</td>\n",
       "      <td>3</td>\n",
       "      <td>3013</td>\n",
       "      <td>LAX</td>\n",
       "      <td>PDX</td>\n",
       "      <td>-3.0</td>\n",
       "      <td>834.0</td>\n",
       "      <td>SouthWest</td>\n",
       "      <td>0</td>\n",
       "    </tr>\n",
       "    <tr>\n",
       "      <th>3</th>\n",
       "      <td>11</td>\n",
       "      <td>1</td>\n",
       "      <td>4</td>\n",
       "      <td>3557</td>\n",
       "      <td>IAH</td>\n",
       "      <td>CVG</td>\n",
       "      <td>-13.0</td>\n",
       "      <td>871.0</td>\n",
       "      <td>American</td>\n",
       "      <td>0</td>\n",
       "    </tr>\n",
       "    <tr>\n",
       "      <th>4</th>\n",
       "      <td>12</td>\n",
       "      <td>11</td>\n",
       "      <td>2</td>\n",
       "      <td>4903</td>\n",
       "      <td>IAH</td>\n",
       "      <td>DTW</td>\n",
       "      <td>-19.0</td>\n",
       "      <td>1075.0</td>\n",
       "      <td>Delta</td>\n",
       "      <td>0</td>\n",
       "    </tr>\n",
       "  </tbody>\n",
       "</table>\n",
       "</div>"
      ],
      "text/plain": [
       "   month  day_of_month  day_of_week  op_carrier_fl_num origin dest  arr_delay  \\\n",
       "0     11            29            4               3539    GEG  SLC      -13.0   \n",
       "1     11             3            6               3614    TPA  RDU      -14.0   \n",
       "2     12            19            3               3013    LAX  PDX       -3.0   \n",
       "3     11             1            4               3557    IAH  CVG      -13.0   \n",
       "4     12            11            2               4903    IAH  DTW      -19.0   \n",
       "\n",
       "   distance    carrier  delay_indicator  \n",
       "0     546.0      Delta                0  \n",
       "1     587.0      Delta                0  \n",
       "2     834.0  SouthWest                0  \n",
       "3     871.0   American                0  \n",
       "4    1075.0      Delta                0  "
      ]
     },
     "execution_count": 4,
     "metadata": {},
     "output_type": "execute_result"
    }
   ],
   "source": [
    "#Dropping a technical column\n",
    "data.drop(columns = ['Unnamed: 0'], axis=1, inplace=True)\n",
    "\n",
    "#Checking DataFrame\n",
    "data.head()"
   ]
  },
  {
   "cell_type": "markdown",
   "metadata": {},
   "source": [
    "## Target Variable and Features Matrix ##"
   ]
  },
  {
   "cell_type": "markdown",
   "metadata": {},
   "source": [
    "In order to fit a Decision Tree Classifier we need to use our **DELAY_INDICATOR** as our target variable. We also need to drop ARR_DELAY from our features as our target variable was efficiently engineered from it. "
   ]
  },
  {
   "cell_type": "code",
   "execution_count": 5,
   "metadata": {},
   "outputs": [
    {
     "data": {
      "text/plain": [
       "0.5"
      ]
     },
     "execution_count": 5,
     "metadata": {},
     "output_type": "execute_result"
    }
   ],
   "source": [
    "#Target variable\n",
    "y = data['delay_indicator']\n",
    "\n",
    "#Features matrix\n",
    "X = data.drop(columns=['delay_indicator','arr_delay'])\n",
    "\n",
    "#Baseline model accuracy\n",
    "y.mean()"
   ]
  },
  {
   "cell_type": "code",
   "execution_count": 6,
   "metadata": {},
   "outputs": [
    {
     "data": {
      "text/plain": [
       "month                  int64\n",
       "day_of_month           int64\n",
       "day_of_week            int64\n",
       "op_carrier_fl_num      int64\n",
       "origin                object\n",
       "dest                  object\n",
       "distance             float64\n",
       "carrier               object\n",
       "dtype: object"
      ]
     },
     "execution_count": 6,
     "metadata": {},
     "output_type": "execute_result"
    }
   ],
   "source": [
    "#Checking our feature matrix data types\n",
    "X.dtypes"
   ]
  },
  {
   "cell_type": "code",
   "execution_count": 7,
   "metadata": {},
   "outputs": [
    {
     "data": {
      "text/plain": [
       "(650556, 711)"
      ]
     },
     "execution_count": 7,
     "metadata": {},
     "output_type": "execute_result"
    }
   ],
   "source": [
    "#Getting dummies for our text features ORIGIN, DEST and CARRIER\n",
    "X = pd.get_dummies(X,columns = ['origin','dest','carrier'],drop_first=True)\n",
    "\n",
    "#Checking the shape of our feature matrix\n",
    "X.shape"
   ]
  },
  {
   "cell_type": "code",
   "execution_count": 8,
   "metadata": {},
   "outputs": [],
   "source": [
    "#Training and testing sets split with random_state=1519 for reproduceability of results \n",
    "X_train, X_test, y_train, y_test = train_test_split(X, y, random_state=1519)"
   ]
  },
  {
   "cell_type": "markdown",
   "metadata": {},
   "source": [
    "## Decision Tree Classifier ##"
   ]
  },
  {
   "cell_type": "markdown",
   "metadata": {},
   "source": [
    "A Decision Tree Classifier is the model to be fitted first, the simplest one out of the family and still quite efficient. "
   ]
  },
  {
   "cell_type": "code",
   "execution_count": 10,
   "metadata": {},
   "outputs": [
    {
     "data": {
      "text/plain": [
       "1.0"
      ]
     },
     "execution_count": 10,
     "metadata": {},
     "output_type": "execute_result"
    }
   ],
   "source": [
    "#Instantiating the model\n",
    "tree = DecisionTreeClassifier(random_state=1519)\n",
    "\n",
    "#Fitting the model\n",
    "result_tree_cvec = tree.fit(X_train, y_train)\n",
    "\n",
    "#Accuracy score training set\n",
    "round(result_tree_cvec.score(X_train, y_train),4)"
   ]
  },
  {
   "cell_type": "code",
   "execution_count": 11,
   "metadata": {},
   "outputs": [
    {
     "data": {
      "text/plain": [
       "0.6103394634743204"
      ]
     },
     "execution_count": 11,
     "metadata": {},
     "output_type": "execute_result"
    }
   ],
   "source": [
    "#Accuracy score testing set\n",
    "round(result_tree_cvec.score(X_test, y_test),4)"
   ]
  },
  {
   "cell_type": "markdown",
   "metadata": {},
   "source": [
    "## Bagging Classifier ##"
   ]
  },
  {
   "cell_type": "markdown",
   "metadata": {},
   "source": [
    "An attempt to improve Decision Tree Classifier's performance using an ensemble model."
   ]
  },
  {
   "cell_type": "code",
   "execution_count": 13,
   "metadata": {},
   "outputs": [
    {
     "data": {
      "text/plain": [
       "0.9760799480239467"
      ]
     },
     "execution_count": 13,
     "metadata": {},
     "output_type": "execute_result"
    }
   ],
   "source": [
    "#Instantiating Bagging Classifier\n",
    "bag = BaggingClassifier(random_state=1519)\n",
    "\n",
    "#Fitting the model\n",
    "results_bag = bag.fit(X_train, y_train)\n",
    "\n",
    "#Accuracy score training set\n",
    "round(results_bag.score(X_train, y_train),4)"
   ]
  },
  {
   "cell_type": "code",
   "execution_count": 14,
   "metadata": {},
   "outputs": [
    {
     "data": {
      "text/plain": [
       "0.6428040015002552"
      ]
     },
     "execution_count": 14,
     "metadata": {},
     "output_type": "execute_result"
    }
   ],
   "source": [
    "#Accuracy score testing set\n",
    "round(results_bag.score(X_test, y_test),4)"
   ]
  },
  {
   "cell_type": "markdown",
   "metadata": {},
   "source": [
    "## Random Forest Classifier ##"
   ]
  },
  {
   "cell_type": "markdown",
   "metadata": {},
   "source": [
    "An attempt to further improve Decision Tree Classifier's performance."
   ]
  },
  {
   "cell_type": "code",
   "execution_count": 15,
   "metadata": {},
   "outputs": [
    {
     "data": {
      "text/plain": [
       "0.9789349418036264"
      ]
     },
     "execution_count": 15,
     "metadata": {},
     "output_type": "execute_result"
    }
   ],
   "source": [
    "#Instantiating Random Forest Classifier\n",
    "forest = RandomForestClassifier(random_state=1519)\n",
    "\n",
    "#Fitting the model\n",
    "results_forest = forest.fit(X_train, y_train)\n",
    "\n",
    "#Accuracy score training set\n",
    "round(results_forest.score(X_train, y_train),4)"
   ]
  },
  {
   "cell_type": "code",
   "execution_count": 16,
   "metadata": {},
   "outputs": [
    {
     "data": {
      "text/plain": [
       "0.6247947909173076"
      ]
     },
     "execution_count": 16,
     "metadata": {},
     "output_type": "execute_result"
    }
   ],
   "source": [
    "#Accuracy score testing set\n",
    "round(results_forest.score(X_test, y_test),4)"
   ]
  },
  {
   "cell_type": "code",
   "execution_count": 17,
   "metadata": {},
   "outputs": [
    {
     "name": "stdout",
     "output_type": "stream",
     "text": [
      "Fitting 3 folds for each of 36 candidates, totalling 108 fits\n"
     ]
    },
    {
     "name": "stderr",
     "output_type": "stream",
     "text": [
      "[Parallel(n_jobs=-1)]: Using backend LokyBackend with 4 concurrent workers.\n",
      "[Parallel(n_jobs=-1)]: Done  42 tasks      | elapsed:  3.9min\n",
      "[Parallel(n_jobs=-1)]: Done 108 out of 108 | elapsed:  9.6min finished\n"
     ]
    }
   ],
   "source": [
    "#Initializing a pipleline for gridsearching best Random Forest paramaters\n",
    "pipe = Pipeline(steps = [('model', RandomForestClassifier(random_state=1519))])\n",
    "\n",
    "#Hyperparameters\n",
    "hyperparams = {'model__max_depth':np.linspace(2,10,6),\n",
    "               'model__n_estimators':[5,10],\n",
    "                'model__min_samples_split':[2,3,4]\n",
    "                   }\n",
    "#Initializing GridSearch with 3-fold cross-validation\n",
    "gs = GridSearchCV(pipe,\n",
    "                  hyperparams,\n",
    "                  n_jobs=-1,\n",
    "                  verbose=1,\n",
    "                      cv=3)\n",
    "\n",
    "#Fitting GridSearch and saving results\n",
    "results = gs.fit(X_train,y_train)"
   ]
  },
  {
   "cell_type": "code",
   "execution_count": 18,
   "metadata": {},
   "outputs": [
    {
     "data": {
      "text/plain": [
       "0.5859"
      ]
     },
     "execution_count": 18,
     "metadata": {},
     "output_type": "execute_result"
    }
   ],
   "source": [
    "#Best gridsearched Random Forest accuracy score on testing set\n",
    "round(results.best_score_,4)"
   ]
  },
  {
   "cell_type": "code",
   "execution_count": 19,
   "metadata": {},
   "outputs": [
    {
     "data": {
      "text/plain": [
       "0.5911"
      ]
     },
     "execution_count": 19,
     "metadata": {},
     "output_type": "execute_result"
    }
   ],
   "source": [
    "#Best gridsearched Random Forest accuracy score on training set\n",
    "round(results.score(X_train,y_train),4)"
   ]
  },
  {
   "cell_type": "code",
   "execution_count": 20,
   "metadata": {},
   "outputs": [
    {
     "data": {
      "text/plain": [
       "{'model__max_depth': 10.0,\n",
       " 'model__min_samples_split': 3,\n",
       " 'model__n_estimators': 10}"
      ]
     },
     "execution_count": 20,
     "metadata": {},
     "output_type": "execute_result"
    }
   ],
   "source": [
    "#Best gridsearched model's parameters\n",
    "results.best_params_"
   ]
  },
  {
   "cell_type": "markdown",
   "metadata": {},
   "source": [
    "## AdaBoost Classifier ##"
   ]
  },
  {
   "cell_type": "markdown",
   "metadata": {},
   "source": [
    "Since our optimized Random Forest model improved a bit, and it is now quite well-fitted, but it's performance is still not satisfactory, let's try a boosting technique."
   ]
  },
  {
   "cell_type": "code",
   "execution_count": 26,
   "metadata": {},
   "outputs": [
    {
     "data": {
      "text/plain": [
       "0.6825"
      ]
     },
     "execution_count": 26,
     "metadata": {},
     "output_type": "execute_result"
    }
   ],
   "source": [
    "#Instantiating an AdaBoost Clasifier with Decision Tree Classifier as estimator and n_estimators=10\n",
    "ada = AdaBoostClassifier(base_estimator=RandomForestClassifier(max_depth=10, min_samples_split=3,n_estimators=10), \n",
    "                        random_state=1519)\n",
    "\n",
    "#Fitting the model\n",
    "results_ada = ada.fit(X_train, y_train)\n",
    "\n",
    "#Accuracy score training set\n",
    "round(results_ada.score(X_train, y_train),4)"
   ]
  },
  {
   "cell_type": "code",
   "execution_count": 34,
   "metadata": {},
   "outputs": [
    {
     "data": {
      "text/plain": [
       "0.633"
      ]
     },
     "execution_count": 34,
     "metadata": {},
     "output_type": "execute_result"
    }
   ],
   "source": [
    "#Accuracy score testing set\n",
    "round(results_ada.score(X_test, y_test),4)"
   ]
  },
  {
   "cell_type": "markdown",
   "metadata": {},
   "source": [
    "## XGBoost ##"
   ]
  },
  {
   "cell_type": "code",
   "execution_count": 32,
   "metadata": {},
   "outputs": [
    {
     "name": "stdout",
     "output_type": "stream",
     "text": [
      "[15:57:36] INFO: src/tree/updater_prune.cc:74: tree pruning end, 1 roots, 1540 extra nodes, 0 pruned nodes, max_depth=10\n",
      "[15:58:17] INFO: src/tree/updater_prune.cc:74: tree pruning end, 1 roots, 1230 extra nodes, 0 pruned nodes, max_depth=10\n",
      "[15:58:56] INFO: src/tree/updater_prune.cc:74: tree pruning end, 1 roots, 1434 extra nodes, 0 pruned nodes, max_depth=10\n",
      "[15:59:34] INFO: src/tree/updater_prune.cc:74: tree pruning end, 1 roots, 1346 extra nodes, 0 pruned nodes, max_depth=10\n",
      "[16:00:13] INFO: src/tree/updater_prune.cc:74: tree pruning end, 1 roots, 1294 extra nodes, 0 pruned nodes, max_depth=10\n",
      "[16:01:00] INFO: src/tree/updater_prune.cc:74: tree pruning end, 1 roots, 1186 extra nodes, 0 pruned nodes, max_depth=10\n",
      "[16:01:38] INFO: src/tree/updater_prune.cc:74: tree pruning end, 1 roots, 1206 extra nodes, 0 pruned nodes, max_depth=10\n",
      "[16:02:18] INFO: src/tree/updater_prune.cc:74: tree pruning end, 1 roots, 1230 extra nodes, 0 pruned nodes, max_depth=10\n",
      "[16:02:57] INFO: src/tree/updater_prune.cc:74: tree pruning end, 1 roots, 946 extra nodes, 0 pruned nodes, max_depth=10\n",
      "[16:03:45] INFO: src/tree/updater_prune.cc:74: tree pruning end, 1 roots, 1014 extra nodes, 0 pruned nodes, max_depth=10\n"
     ]
    },
    {
     "data": {
      "text/plain": [
       "0.6413795789037889"
      ]
     },
     "execution_count": 32,
     "metadata": {},
     "output_type": "execute_result"
    }
   ],
   "source": [
    "model=xgb.XGBClassifier(max_depth=10,\n",
    "                        n_estimators=10,\n",
    "                        n_jobs=-1,\n",
    "                        random_state=1519,\n",
    "                       verbosity=1,\n",
    "                       )\n",
    "model.fit(X_train, y_train)\n",
    "model.score(X_train, y_train)"
   ]
  },
  {
   "cell_type": "code",
   "execution_count": 33,
   "metadata": {},
   "outputs": [
    {
     "data": {
      "text/plain": [
       "0.6322345808815844"
      ]
     },
     "execution_count": 33,
     "metadata": {},
     "output_type": "execute_result"
    }
   ],
   "source": [
    "model.score(X_test,y_test)"
   ]
  },
  {
   "cell_type": "markdown",
   "metadata": {},
   "source": [
    "## Feature Importances ##"
   ]
  },
  {
   "cell_type": "code",
   "execution_count": 38,
   "metadata": {},
   "outputs": [],
   "source": [
    "feat_imp = pd.DataFrame(results_ada.feature_importances_)"
   ]
  },
  {
   "cell_type": "code",
   "execution_count": 39,
   "metadata": {},
   "outputs": [],
   "source": [
    "feat_imp.columns = ['coef']"
   ]
  },
  {
   "cell_type": "code",
   "execution_count": 46,
   "metadata": {},
   "outputs": [
    {
     "data": {
      "text/html": [
       "<div>\n",
       "<style scoped>\n",
       "    .dataframe tbody tr th:only-of-type {\n",
       "        vertical-align: middle;\n",
       "    }\n",
       "\n",
       "    .dataframe tbody tr th {\n",
       "        vertical-align: top;\n",
       "    }\n",
       "\n",
       "    .dataframe thead th {\n",
       "        text-align: right;\n",
       "    }\n",
       "</style>\n",
       "<table border=\"1\" class=\"dataframe\">\n",
       "  <thead>\n",
       "    <tr style=\"text-align: right;\">\n",
       "      <th></th>\n",
       "      <th>coef</th>\n",
       "    </tr>\n",
       "  </thead>\n",
       "  <tbody>\n",
       "    <tr>\n",
       "      <th>1</th>\n",
       "      <td>0.263090</td>\n",
       "    </tr>\n",
       "    <tr>\n",
       "      <th>2</th>\n",
       "      <td>0.155008</td>\n",
       "    </tr>\n",
       "    <tr>\n",
       "      <th>3</th>\n",
       "      <td>0.138084</td>\n",
       "    </tr>\n",
       "    <tr>\n",
       "      <th>0</th>\n",
       "      <td>0.091590</td>\n",
       "    </tr>\n",
       "    <tr>\n",
       "      <th>4</th>\n",
       "      <td>0.029548</td>\n",
       "    </tr>\n",
       "    <tr>\n",
       "      <th>704</th>\n",
       "      <td>0.011190</td>\n",
       "    </tr>\n",
       "    <tr>\n",
       "      <th>703</th>\n",
       "      <td>0.008547</td>\n",
       "    </tr>\n",
       "    <tr>\n",
       "      <th>710</th>\n",
       "      <td>0.006976</td>\n",
       "    </tr>\n",
       "    <tr>\n",
       "      <th>708</th>\n",
       "      <td>0.005911</td>\n",
       "    </tr>\n",
       "    <tr>\n",
       "      <th>464</th>\n",
       "      <td>0.005724</td>\n",
       "    </tr>\n",
       "  </tbody>\n",
       "</table>\n",
       "</div>"
      ],
      "text/plain": [
       "         coef\n",
       "1    0.263090\n",
       "2    0.155008\n",
       "3    0.138084\n",
       "0    0.091590\n",
       "4    0.029548\n",
       "704  0.011190\n",
       "703  0.008547\n",
       "710  0.006976\n",
       "708  0.005911\n",
       "464  0.005724"
      ]
     },
     "execution_count": 46,
     "metadata": {},
     "output_type": "execute_result"
    }
   ],
   "source": [
    "feat_imp[['coef']].sort_values('coef', ascending=False ).head(10)"
   ]
  },
  {
   "cell_type": "code",
   "execution_count": 79,
   "metadata": {},
   "outputs": [
    {
     "data": {
      "text/plain": [
       "Int64Index([  1,   2,   3,   0,   4, 704, 703, 710, 708, 464, 705, 245, 707,\n",
       "            653, 444,  94, 373, 593,  95,  24, 115, 544, 443, 195, 651, 305,\n",
       "            101, 231, 709, 314, 450,  47, 303, 423, 580, 702, 706, 662,  74,\n",
       "            511, 396, 607, 162, 535, 210, 218,  93, 533, 186, 442, 258, 293,\n",
       "            184,  59, 259, 208, 606, 641,  90, 472, 557, 525, 151, 509, 408,\n",
       "            567, 207, 502, 602, 254, 176, 123, 439],\n",
       "           dtype='int64')"
      ]
     },
     "execution_count": 79,
     "metadata": {},
     "output_type": "execute_result"
    }
   ],
   "source": [
    "imp_features = feat_imp[feat_imp['coef']> .001]['coef'].sort_values(ascending=False).index\n",
    "imp_features"
   ]
  },
  {
   "cell_type": "code",
   "execution_count": 80,
   "metadata": {},
   "outputs": [
    {
     "data": {
      "text/plain": [
       "Index(['day_of_month', 'day_of_week', 'op_carrier_fl_num', 'month', 'distance',\n",
       "       'carrier_Delta', 'carrier_American', 'carrier_United',\n",
       "       'carrier_SouthWest', 'dest_EWR', 'carrier_Frontier Airlines',\n",
       "       'origin_ORD', 'carrier_JetBlue', 'dest_SFO', 'dest_DFW', 'origin_DEN',\n",
       "       'dest_ATL', 'dest_ORD', 'origin_DFW', 'origin_ATL', 'origin_EWR',\n",
       "       'dest_LGA', 'dest_DEN', 'origin_LGA', 'dest_SEA', 'origin_SFO',\n",
       "       'origin_DTW', 'origin_MSP', 'carrier_Spirit Airlines', 'origin_SLC',\n",
       "       'dest_DTW', 'origin_BOS', 'origin_SEA', 'dest_CLT', 'dest_MSP',\n",
       "       'carrier_Allegiant Air', 'carrier_Hawaiian Airlines', 'dest_SLC',\n",
       "       'origin_CLT', 'dest_IAH', 'dest_BOS', 'dest_PHX', 'origin_IAH',\n",
       "       'dest_LAX', 'origin_MDW', 'origin_MIA', 'origin_DCA', 'dest_LAS',\n",
       "       'origin_LAX', 'dest_DCA', 'origin_PHL', 'origin_SAN', 'origin_LAS',\n",
       "       'origin_BWI', 'origin_PHX', 'origin_MCO', 'dest_PHL', 'dest_SAN',\n",
       "       'origin_DAL', 'dest_FLL', 'dest_MCO', 'dest_JFK', 'origin_HNL',\n",
       "       'dest_IAD', 'dest_BWI', 'dest_MIA', 'origin_MCI', 'dest_HOU',\n",
       "       'dest_PDX', 'origin_PDX', 'origin_JFK', 'origin_FLL', 'dest_DAL'],\n",
       "      dtype='object')"
      ]
     },
     "execution_count": 80,
     "metadata": {},
     "output_type": "execute_result"
    }
   ],
   "source": [
    "X[X.columns[imp_features]].columns"
   ]
  },
  {
   "cell_type": "code",
   "execution_count": 81,
   "metadata": {},
   "outputs": [
    {
     "data": {
      "text/plain": [
       "Index(['month', 'day_of_month', 'day_of_week', 'op_carrier_fl_num', 'distance',\n",
       "       'origin_ABI', 'origin_ABQ', 'origin_ABR', 'origin_ABY', 'origin_ACK',\n",
       "       ...\n",
       "       'dest_YUM', 'carrier_Allegiant Air', 'carrier_American',\n",
       "       'carrier_Delta', 'carrier_Frontier Airlines',\n",
       "       'carrier_Hawaiian Airlines', 'carrier_JetBlue', 'carrier_SouthWest',\n",
       "       'carrier_Spirit Airlines', 'carrier_United'],\n",
       "      dtype='object', length=711)"
      ]
     },
     "execution_count": 81,
     "metadata": {},
     "output_type": "execute_result"
    }
   ],
   "source": [
    "X.columns"
   ]
  },
  {
   "cell_type": "code",
   "execution_count": 86,
   "metadata": {},
   "outputs": [],
   "source": [
    "dict_feat={}\n",
    "for i in range(len(imp_features)):\n",
    "    dict_feat.update({X.columns[imp_features[i]]:feat_imp['coef'][i]})"
   ]
  },
  {
   "cell_type": "code",
   "execution_count": 96,
   "metadata": {},
   "outputs": [
    {
     "data": {
      "text/plain": [
       "dict_keys(['day_of_month', 'day_of_week', 'op_carrier_fl_num', 'month', 'distance', 'carrier_Delta', 'carrier_American', 'carrier_United', 'carrier_SouthWest', 'dest_EWR', 'carrier_Frontier Airlines', 'origin_ORD', 'carrier_JetBlue', 'dest_SFO', 'dest_DFW', 'origin_DEN', 'dest_ATL', 'dest_ORD', 'origin_DFW', 'origin_ATL', 'origin_EWR', 'dest_LGA', 'dest_DEN', 'origin_LGA', 'dest_SEA', 'origin_SFO', 'origin_DTW', 'origin_MSP', 'carrier_Spirit Airlines', 'origin_SLC', 'dest_DTW', 'origin_BOS', 'origin_SEA', 'dest_CLT', 'dest_MSP', 'carrier_Allegiant Air', 'carrier_Hawaiian Airlines', 'dest_SLC', 'origin_CLT', 'dest_IAH', 'dest_BOS', 'dest_PHX', 'origin_IAH', 'dest_LAX', 'origin_MDW', 'origin_MIA', 'origin_DCA', 'dest_LAS', 'origin_LAX', 'dest_DCA', 'origin_PHL', 'origin_SAN', 'origin_LAS', 'origin_BWI', 'origin_PHX', 'origin_MCO', 'dest_PHL', 'dest_SAN', 'origin_DAL', 'dest_FLL', 'dest_MCO', 'dest_JFK', 'origin_HNL', 'dest_IAD', 'dest_BWI', 'dest_MIA', 'origin_MCI', 'dest_HOU', 'dest_PDX', 'origin_PDX', 'origin_JFK', 'origin_FLL', 'dest_DAL'])"
      ]
     },
     "execution_count": 96,
     "metadata": {},
     "output_type": "execute_result"
    }
   ],
   "source": [
    "dict_feat"
   ]
  },
  {
   "cell_type": "code",
   "execution_count": 97,
   "metadata": {},
   "outputs": [],
   "source": [
    "df = pd.DataFrame.from_dict(data = dict_feat, orient='index', columns=['value'])"
   ]
  },
  {
   "cell_type": "code",
   "execution_count": 101,
   "metadata": {},
   "outputs": [
    {
     "data": {
      "text/plain": [
       "(73, 1)"
      ]
     },
     "execution_count": 101,
     "metadata": {},
     "output_type": "execute_result"
    }
   ],
   "source": [
    "df.shape"
   ]
  },
  {
   "cell_type": "code",
   "execution_count": null,
   "metadata": {},
   "outputs": [],
   "source": []
  }
 ],
 "metadata": {
  "kernelspec": {
   "display_name": "Python 3",
   "language": "python",
   "name": "python3"
  },
  "language_info": {
   "codemirror_mode": {
    "name": "ipython",
    "version": 3
   },
   "file_extension": ".py",
   "mimetype": "text/x-python",
   "name": "python",
   "nbconvert_exporter": "python",
   "pygments_lexer": "ipython3",
   "version": "3.7.5"
  },
  "latex_envs": {
   "LaTeX_envs_menu_present": true,
   "autoclose": false,
   "autocomplete": true,
   "bibliofile": "biblio.bib",
   "cite_by": "apalike",
   "current_citInitial": 1,
   "eqLabelWithNumbers": true,
   "eqNumInitial": 1,
   "hotkeys": {
    "equation": "Ctrl-E",
    "itemize": "Ctrl-I"
   },
   "labels_anchors": false,
   "latex_user_defs": false,
   "report_style_numbering": false,
   "user_envs_cfg": false
  },
  "toc": {
   "base_numbering": 1,
   "nav_menu": {},
   "number_sections": true,
   "sideBar": true,
   "skip_h1_title": false,
   "title_cell": "Table of Contents",
   "title_sidebar": "Contents",
   "toc_cell": false,
   "toc_position": {},
   "toc_section_display": true,
   "toc_window_display": false
  },
  "varInspector": {
   "cols": {
    "lenName": 16,
    "lenType": 16,
    "lenVar": 40
   },
   "kernels_config": {
    "python": {
     "delete_cmd_postfix": "",
     "delete_cmd_prefix": "del ",
     "library": "var_list.py",
     "varRefreshCmd": "print(var_dic_list())"
    },
    "r": {
     "delete_cmd_postfix": ") ",
     "delete_cmd_prefix": "rm(",
     "library": "var_list.r",
     "varRefreshCmd": "cat(var_dic_list()) "
    }
   },
   "types_to_exclude": [
    "module",
    "function",
    "builtin_function_or_method",
    "instance",
    "_Feature"
   ],
   "window_display": false
  }
 },
 "nbformat": 4,
 "nbformat_minor": 2
}
