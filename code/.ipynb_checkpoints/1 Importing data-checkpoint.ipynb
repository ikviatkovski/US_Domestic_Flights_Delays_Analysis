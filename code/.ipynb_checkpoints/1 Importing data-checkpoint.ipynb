{
 "cells": [
  {
   "cell_type": "markdown",
   "metadata": {},
   "source": [
    "# Table of Content #\n",
    "\n",
    "- [Importing Necessary Libraries](#Importing-Necessary-Libraries)\n",
    "- [Importing October 2018 Flights Data](#Importing-October-2018-Flights-Data)\n",
    "- [Initial October Data Exploration](#Initial-October-Data-Exploration)\n",
    "- [Importing November 2018 Flights Data](#Importing-November-2018-Flights-Data)\n",
    "- [Initial November 2018 Data Exploration](#Initial-November-2018-Data-Exploration)\n",
    "- [Importing December 2018 Flights Data](#Importing-December-2018-Flights-Data)\n",
    "- [Initial December 2018 Data Exploration](#Initial-December-2018-Data-Exploration)\n",
    "- [Q4 Initial Data Exploration](#Q4-Initial-Data-Exploration)"
   ]
  },
  {
   "cell_type": "markdown",
   "metadata": {},
   "source": [
    "## Importing Necessary Libraries ##"
   ]
  },
  {
   "cell_type": "code",
   "execution_count": 1,
   "metadata": {},
   "outputs": [],
   "source": [
    "#Importing libraries\n",
    "import pandas as pd\n",
    "import numpy as np\n",
    "\n",
    "import matplotlib.pyplot as plt\n",
    "import seaborn as sns\n",
    "\n",
    "#Setting style\n",
    "plt.style.use('fivethirtyeight')\n",
    "\n",
    "%matplotlib inline\n",
    "%config InlineBackend.figure_format = 'retina'\n",
    "\n",
    "#Setting display options\n",
    "pd.set_option('display.max_columns', 5000)\n",
    "pd.options.display.max_rows = 4000"
   ]
  },
  {
   "cell_type": "markdown",
   "metadata": {},
   "source": [
    "## Importing October 2018 Flights Data"
   ]
  },
  {
   "cell_type": "code",
   "execution_count": 2,
   "metadata": {},
   "outputs": [
    {
     "name": "stderr",
     "output_type": "stream",
     "text": [
      "/Library/Frameworks/Python.framework/Versions/3.7/lib/python3.7/site-packages/IPython/core/interactiveshell.py:3051: DtypeWarning: Columns (48,77,84) have mixed types. Specify dtype option on import or set low_memory=False.\n",
      "  interactivity=interactivity, compiler=compiler, result=result)\n"
     ]
    }
   ],
   "source": [
    "#Loading data from a csv file\n",
    "data_oct = pd.read_csv('~/ga/projects/capstone_data/data/october.csv')"
   ]
  },
  {
   "cell_type": "code",
   "execution_count": 3,
   "metadata": {},
   "outputs": [
    {
     "data": {
      "text/html": [
       "<div>\n",
       "<style scoped>\n",
       "    .dataframe tbody tr th:only-of-type {\n",
       "        vertical-align: middle;\n",
       "    }\n",
       "\n",
       "    .dataframe tbody tr th {\n",
       "        vertical-align: top;\n",
       "    }\n",
       "\n",
       "    .dataframe thead th {\n",
       "        text-align: right;\n",
       "    }\n",
       "</style>\n",
       "<table border=\"1\" class=\"dataframe\">\n",
       "  <thead>\n",
       "    <tr style=\"text-align: right;\">\n",
       "      <th></th>\n",
       "      <th>YEAR</th>\n",
       "      <th>QUARTER</th>\n",
       "      <th>MONTH</th>\n",
       "      <th>DAY_OF_MONTH</th>\n",
       "      <th>DAY_OF_WEEK</th>\n",
       "      <th>FL_DATE</th>\n",
       "      <th>OP_UNIQUE_CARRIER</th>\n",
       "      <th>OP_CARRIER_AIRLINE_ID</th>\n",
       "      <th>OP_CARRIER</th>\n",
       "      <th>TAIL_NUM</th>\n",
       "      <th>OP_CARRIER_FL_NUM</th>\n",
       "      <th>ORIGIN_AIRPORT_ID</th>\n",
       "      <th>ORIGIN_AIRPORT_SEQ_ID</th>\n",
       "      <th>ORIGIN_CITY_MARKET_ID</th>\n",
       "      <th>ORIGIN</th>\n",
       "      <th>ORIGIN_CITY_NAME</th>\n",
       "      <th>ORIGIN_STATE_ABR</th>\n",
       "      <th>ORIGIN_STATE_FIPS</th>\n",
       "      <th>ORIGIN_STATE_NM</th>\n",
       "      <th>ORIGIN_WAC</th>\n",
       "      <th>DEST_AIRPORT_ID</th>\n",
       "      <th>DEST_AIRPORT_SEQ_ID</th>\n",
       "      <th>DEST_CITY_MARKET_ID</th>\n",
       "      <th>DEST</th>\n",
       "      <th>DEST_CITY_NAME</th>\n",
       "      <th>DEST_STATE_ABR</th>\n",
       "      <th>DEST_STATE_FIPS</th>\n",
       "      <th>DEST_STATE_NM</th>\n",
       "      <th>DEST_WAC</th>\n",
       "      <th>CRS_DEP_TIME</th>\n",
       "      <th>DEP_TIME</th>\n",
       "      <th>DEP_DELAY</th>\n",
       "      <th>DEP_DELAY_NEW</th>\n",
       "      <th>DEP_DEL15</th>\n",
       "      <th>DEP_DELAY_GROUP</th>\n",
       "      <th>DEP_TIME_BLK</th>\n",
       "      <th>TAXI_OUT</th>\n",
       "      <th>WHEELS_OFF</th>\n",
       "      <th>WHEELS_ON</th>\n",
       "      <th>TAXI_IN</th>\n",
       "      <th>CRS_ARR_TIME</th>\n",
       "      <th>ARR_TIME</th>\n",
       "      <th>ARR_DELAY</th>\n",
       "      <th>ARR_DELAY_NEW</th>\n",
       "      <th>ARR_DEL15</th>\n",
       "      <th>ARR_DELAY_GROUP</th>\n",
       "      <th>ARR_TIME_BLK</th>\n",
       "      <th>CANCELLED</th>\n",
       "      <th>CANCELLATION_CODE</th>\n",
       "      <th>DIVERTED</th>\n",
       "      <th>CRS_ELAPSED_TIME</th>\n",
       "      <th>ACTUAL_ELAPSED_TIME</th>\n",
       "      <th>AIR_TIME</th>\n",
       "      <th>FLIGHTS</th>\n",
       "      <th>DISTANCE</th>\n",
       "      <th>DISTANCE_GROUP</th>\n",
       "      <th>CARRIER_DELAY</th>\n",
       "      <th>WEATHER_DELAY</th>\n",
       "      <th>NAS_DELAY</th>\n",
       "      <th>SECURITY_DELAY</th>\n",
       "      <th>LATE_AIRCRAFT_DELAY</th>\n",
       "      <th>FIRST_DEP_TIME</th>\n",
       "      <th>TOTAL_ADD_GTIME</th>\n",
       "      <th>LONGEST_ADD_GTIME</th>\n",
       "      <th>DIV_AIRPORT_LANDINGS</th>\n",
       "      <th>DIV_REACHED_DEST</th>\n",
       "      <th>DIV_ACTUAL_ELAPSED_TIME</th>\n",
       "      <th>DIV_ARR_DELAY</th>\n",
       "      <th>DIV_DISTANCE</th>\n",
       "      <th>DIV1_AIRPORT</th>\n",
       "      <th>DIV1_AIRPORT_ID</th>\n",
       "      <th>DIV1_AIRPORT_SEQ_ID</th>\n",
       "      <th>DIV1_WHEELS_ON</th>\n",
       "      <th>DIV1_TOTAL_GTIME</th>\n",
       "      <th>DIV1_LONGEST_GTIME</th>\n",
       "      <th>DIV1_WHEELS_OFF</th>\n",
       "      <th>DIV1_TAIL_NUM</th>\n",
       "      <th>DIV2_AIRPORT</th>\n",
       "      <th>DIV2_AIRPORT_ID</th>\n",
       "      <th>DIV2_AIRPORT_SEQ_ID</th>\n",
       "      <th>DIV2_WHEELS_ON</th>\n",
       "      <th>DIV2_TOTAL_GTIME</th>\n",
       "      <th>DIV2_LONGEST_GTIME</th>\n",
       "      <th>DIV2_WHEELS_OFF</th>\n",
       "      <th>DIV2_TAIL_NUM</th>\n",
       "      <th>DIV3_AIRPORT</th>\n",
       "      <th>DIV3_AIRPORT_ID</th>\n",
       "      <th>DIV3_AIRPORT_SEQ_ID</th>\n",
       "      <th>DIV3_WHEELS_ON</th>\n",
       "      <th>DIV3_TOTAL_GTIME</th>\n",
       "      <th>DIV3_LONGEST_GTIME</th>\n",
       "      <th>DIV3_WHEELS_OFF</th>\n",
       "      <th>DIV3_TAIL_NUM</th>\n",
       "      <th>DIV4_AIRPORT</th>\n",
       "      <th>DIV4_AIRPORT_ID</th>\n",
       "      <th>DIV4_AIRPORT_SEQ_ID</th>\n",
       "      <th>DIV4_WHEELS_ON</th>\n",
       "      <th>DIV4_TOTAL_GTIME</th>\n",
       "      <th>DIV4_LONGEST_GTIME</th>\n",
       "      <th>DIV4_WHEELS_OFF</th>\n",
       "      <th>DIV4_TAIL_NUM</th>\n",
       "      <th>DIV5_AIRPORT</th>\n",
       "      <th>DIV5_AIRPORT_ID</th>\n",
       "      <th>DIV5_AIRPORT_SEQ_ID</th>\n",
       "      <th>DIV5_WHEELS_ON</th>\n",
       "      <th>DIV5_TOTAL_GTIME</th>\n",
       "      <th>DIV5_LONGEST_GTIME</th>\n",
       "      <th>DIV5_WHEELS_OFF</th>\n",
       "      <th>DIV5_TAIL_NUM</th>\n",
       "      <th>Unnamed: 109</th>\n",
       "    </tr>\n",
       "  </thead>\n",
       "  <tbody>\n",
       "    <tr>\n",
       "      <th>0</th>\n",
       "      <td>2018</td>\n",
       "      <td>4</td>\n",
       "      <td>10</td>\n",
       "      <td>1</td>\n",
       "      <td>1</td>\n",
       "      <td>2018-10-01</td>\n",
       "      <td>WN</td>\n",
       "      <td>19393</td>\n",
       "      <td>WN</td>\n",
       "      <td>N221WN</td>\n",
       "      <td>802</td>\n",
       "      <td>10140</td>\n",
       "      <td>1014005</td>\n",
       "      <td>30140</td>\n",
       "      <td>ABQ</td>\n",
       "      <td>Albuquerque, NM</td>\n",
       "      <td>NM</td>\n",
       "      <td>35</td>\n",
       "      <td>New Mexico</td>\n",
       "      <td>86</td>\n",
       "      <td>10821</td>\n",
       "      <td>1082106</td>\n",
       "      <td>30852</td>\n",
       "      <td>BWI</td>\n",
       "      <td>Baltimore, MD</td>\n",
       "      <td>MD</td>\n",
       "      <td>24</td>\n",
       "      <td>Maryland</td>\n",
       "      <td>35</td>\n",
       "      <td>905</td>\n",
       "      <td>903.0</td>\n",
       "      <td>-2.0</td>\n",
       "      <td>0.0</td>\n",
       "      <td>0.0</td>\n",
       "      <td>-1.0</td>\n",
       "      <td>0900-0959</td>\n",
       "      <td>10.0</td>\n",
       "      <td>913.0</td>\n",
       "      <td>1430.0</td>\n",
       "      <td>3.0</td>\n",
       "      <td>1450</td>\n",
       "      <td>1433.0</td>\n",
       "      <td>-17.0</td>\n",
       "      <td>0.0</td>\n",
       "      <td>0.0</td>\n",
       "      <td>-2.0</td>\n",
       "      <td>1400-1459</td>\n",
       "      <td>0.0</td>\n",
       "      <td>NaN</td>\n",
       "      <td>0.0</td>\n",
       "      <td>225.0</td>\n",
       "      <td>210.0</td>\n",
       "      <td>197.0</td>\n",
       "      <td>1.0</td>\n",
       "      <td>1670.0</td>\n",
       "      <td>7</td>\n",
       "      <td>NaN</td>\n",
       "      <td>NaN</td>\n",
       "      <td>NaN</td>\n",
       "      <td>NaN</td>\n",
       "      <td>NaN</td>\n",
       "      <td>NaN</td>\n",
       "      <td>NaN</td>\n",
       "      <td>NaN</td>\n",
       "      <td>0</td>\n",
       "      <td>NaN</td>\n",
       "      <td>NaN</td>\n",
       "      <td>NaN</td>\n",
       "      <td>NaN</td>\n",
       "      <td>NaN</td>\n",
       "      <td>NaN</td>\n",
       "      <td>NaN</td>\n",
       "      <td>NaN</td>\n",
       "      <td>NaN</td>\n",
       "      <td>NaN</td>\n",
       "      <td>NaN</td>\n",
       "      <td>NaN</td>\n",
       "      <td>NaN</td>\n",
       "      <td>NaN</td>\n",
       "      <td>NaN</td>\n",
       "      <td>NaN</td>\n",
       "      <td>NaN</td>\n",
       "      <td>NaN</td>\n",
       "      <td>NaN</td>\n",
       "      <td>NaN</td>\n",
       "      <td>NaN</td>\n",
       "      <td>NaN</td>\n",
       "      <td>NaN</td>\n",
       "      <td>NaN</td>\n",
       "      <td>NaN</td>\n",
       "      <td>NaN</td>\n",
       "      <td>NaN</td>\n",
       "      <td>NaN</td>\n",
       "      <td>NaN</td>\n",
       "      <td>NaN</td>\n",
       "      <td>NaN</td>\n",
       "      <td>NaN</td>\n",
       "      <td>NaN</td>\n",
       "      <td>NaN</td>\n",
       "      <td>NaN</td>\n",
       "      <td>NaN</td>\n",
       "      <td>NaN</td>\n",
       "      <td>NaN</td>\n",
       "      <td>NaN</td>\n",
       "      <td>NaN</td>\n",
       "      <td>NaN</td>\n",
       "      <td>NaN</td>\n",
       "      <td>NaN</td>\n",
       "      <td>NaN</td>\n",
       "      <td>NaN</td>\n",
       "    </tr>\n",
       "    <tr>\n",
       "      <th>1</th>\n",
       "      <td>2018</td>\n",
       "      <td>4</td>\n",
       "      <td>10</td>\n",
       "      <td>1</td>\n",
       "      <td>1</td>\n",
       "      <td>2018-10-01</td>\n",
       "      <td>WN</td>\n",
       "      <td>19393</td>\n",
       "      <td>WN</td>\n",
       "      <td>N8329B</td>\n",
       "      <td>3744</td>\n",
       "      <td>10140</td>\n",
       "      <td>1014005</td>\n",
       "      <td>30140</td>\n",
       "      <td>ABQ</td>\n",
       "      <td>Albuquerque, NM</td>\n",
       "      <td>NM</td>\n",
       "      <td>35</td>\n",
       "      <td>New Mexico</td>\n",
       "      <td>86</td>\n",
       "      <td>10821</td>\n",
       "      <td>1082106</td>\n",
       "      <td>30852</td>\n",
       "      <td>BWI</td>\n",
       "      <td>Baltimore, MD</td>\n",
       "      <td>MD</td>\n",
       "      <td>24</td>\n",
       "      <td>Maryland</td>\n",
       "      <td>35</td>\n",
       "      <td>1500</td>\n",
       "      <td>1458.0</td>\n",
       "      <td>-2.0</td>\n",
       "      <td>0.0</td>\n",
       "      <td>0.0</td>\n",
       "      <td>-1.0</td>\n",
       "      <td>1500-1559</td>\n",
       "      <td>8.0</td>\n",
       "      <td>1506.0</td>\n",
       "      <td>2017.0</td>\n",
       "      <td>3.0</td>\n",
       "      <td>2045</td>\n",
       "      <td>2020.0</td>\n",
       "      <td>-25.0</td>\n",
       "      <td>0.0</td>\n",
       "      <td>0.0</td>\n",
       "      <td>-2.0</td>\n",
       "      <td>2000-2059</td>\n",
       "      <td>0.0</td>\n",
       "      <td>NaN</td>\n",
       "      <td>0.0</td>\n",
       "      <td>225.0</td>\n",
       "      <td>202.0</td>\n",
       "      <td>191.0</td>\n",
       "      <td>1.0</td>\n",
       "      <td>1670.0</td>\n",
       "      <td>7</td>\n",
       "      <td>NaN</td>\n",
       "      <td>NaN</td>\n",
       "      <td>NaN</td>\n",
       "      <td>NaN</td>\n",
       "      <td>NaN</td>\n",
       "      <td>NaN</td>\n",
       "      <td>NaN</td>\n",
       "      <td>NaN</td>\n",
       "      <td>0</td>\n",
       "      <td>NaN</td>\n",
       "      <td>NaN</td>\n",
       "      <td>NaN</td>\n",
       "      <td>NaN</td>\n",
       "      <td>NaN</td>\n",
       "      <td>NaN</td>\n",
       "      <td>NaN</td>\n",
       "      <td>NaN</td>\n",
       "      <td>NaN</td>\n",
       "      <td>NaN</td>\n",
       "      <td>NaN</td>\n",
       "      <td>NaN</td>\n",
       "      <td>NaN</td>\n",
       "      <td>NaN</td>\n",
       "      <td>NaN</td>\n",
       "      <td>NaN</td>\n",
       "      <td>NaN</td>\n",
       "      <td>NaN</td>\n",
       "      <td>NaN</td>\n",
       "      <td>NaN</td>\n",
       "      <td>NaN</td>\n",
       "      <td>NaN</td>\n",
       "      <td>NaN</td>\n",
       "      <td>NaN</td>\n",
       "      <td>NaN</td>\n",
       "      <td>NaN</td>\n",
       "      <td>NaN</td>\n",
       "      <td>NaN</td>\n",
       "      <td>NaN</td>\n",
       "      <td>NaN</td>\n",
       "      <td>NaN</td>\n",
       "      <td>NaN</td>\n",
       "      <td>NaN</td>\n",
       "      <td>NaN</td>\n",
       "      <td>NaN</td>\n",
       "      <td>NaN</td>\n",
       "      <td>NaN</td>\n",
       "      <td>NaN</td>\n",
       "      <td>NaN</td>\n",
       "      <td>NaN</td>\n",
       "      <td>NaN</td>\n",
       "      <td>NaN</td>\n",
       "      <td>NaN</td>\n",
       "      <td>NaN</td>\n",
       "      <td>NaN</td>\n",
       "    </tr>\n",
       "    <tr>\n",
       "      <th>2</th>\n",
       "      <td>2018</td>\n",
       "      <td>4</td>\n",
       "      <td>10</td>\n",
       "      <td>1</td>\n",
       "      <td>1</td>\n",
       "      <td>2018-10-01</td>\n",
       "      <td>WN</td>\n",
       "      <td>19393</td>\n",
       "      <td>WN</td>\n",
       "      <td>N920WN</td>\n",
       "      <td>1019</td>\n",
       "      <td>10140</td>\n",
       "      <td>1014005</td>\n",
       "      <td>30140</td>\n",
       "      <td>ABQ</td>\n",
       "      <td>Albuquerque, NM</td>\n",
       "      <td>NM</td>\n",
       "      <td>35</td>\n",
       "      <td>New Mexico</td>\n",
       "      <td>86</td>\n",
       "      <td>11259</td>\n",
       "      <td>1125904</td>\n",
       "      <td>30194</td>\n",
       "      <td>DAL</td>\n",
       "      <td>Dallas, TX</td>\n",
       "      <td>TX</td>\n",
       "      <td>48</td>\n",
       "      <td>Texas</td>\n",
       "      <td>74</td>\n",
       "      <td>1800</td>\n",
       "      <td>1802.0</td>\n",
       "      <td>2.0</td>\n",
       "      <td>2.0</td>\n",
       "      <td>0.0</td>\n",
       "      <td>0.0</td>\n",
       "      <td>1800-1859</td>\n",
       "      <td>7.0</td>\n",
       "      <td>1809.0</td>\n",
       "      <td>2029.0</td>\n",
       "      <td>3.0</td>\n",
       "      <td>2045</td>\n",
       "      <td>2032.0</td>\n",
       "      <td>-13.0</td>\n",
       "      <td>0.0</td>\n",
       "      <td>0.0</td>\n",
       "      <td>-1.0</td>\n",
       "      <td>2000-2059</td>\n",
       "      <td>0.0</td>\n",
       "      <td>NaN</td>\n",
       "      <td>0.0</td>\n",
       "      <td>105.0</td>\n",
       "      <td>90.0</td>\n",
       "      <td>80.0</td>\n",
       "      <td>1.0</td>\n",
       "      <td>580.0</td>\n",
       "      <td>3</td>\n",
       "      <td>NaN</td>\n",
       "      <td>NaN</td>\n",
       "      <td>NaN</td>\n",
       "      <td>NaN</td>\n",
       "      <td>NaN</td>\n",
       "      <td>NaN</td>\n",
       "      <td>NaN</td>\n",
       "      <td>NaN</td>\n",
       "      <td>0</td>\n",
       "      <td>NaN</td>\n",
       "      <td>NaN</td>\n",
       "      <td>NaN</td>\n",
       "      <td>NaN</td>\n",
       "      <td>NaN</td>\n",
       "      <td>NaN</td>\n",
       "      <td>NaN</td>\n",
       "      <td>NaN</td>\n",
       "      <td>NaN</td>\n",
       "      <td>NaN</td>\n",
       "      <td>NaN</td>\n",
       "      <td>NaN</td>\n",
       "      <td>NaN</td>\n",
       "      <td>NaN</td>\n",
       "      <td>NaN</td>\n",
       "      <td>NaN</td>\n",
       "      <td>NaN</td>\n",
       "      <td>NaN</td>\n",
       "      <td>NaN</td>\n",
       "      <td>NaN</td>\n",
       "      <td>NaN</td>\n",
       "      <td>NaN</td>\n",
       "      <td>NaN</td>\n",
       "      <td>NaN</td>\n",
       "      <td>NaN</td>\n",
       "      <td>NaN</td>\n",
       "      <td>NaN</td>\n",
       "      <td>NaN</td>\n",
       "      <td>NaN</td>\n",
       "      <td>NaN</td>\n",
       "      <td>NaN</td>\n",
       "      <td>NaN</td>\n",
       "      <td>NaN</td>\n",
       "      <td>NaN</td>\n",
       "      <td>NaN</td>\n",
       "      <td>NaN</td>\n",
       "      <td>NaN</td>\n",
       "      <td>NaN</td>\n",
       "      <td>NaN</td>\n",
       "      <td>NaN</td>\n",
       "      <td>NaN</td>\n",
       "      <td>NaN</td>\n",
       "      <td>NaN</td>\n",
       "      <td>NaN</td>\n",
       "      <td>NaN</td>\n",
       "    </tr>\n",
       "    <tr>\n",
       "      <th>3</th>\n",
       "      <td>2018</td>\n",
       "      <td>4</td>\n",
       "      <td>10</td>\n",
       "      <td>1</td>\n",
       "      <td>1</td>\n",
       "      <td>2018-10-01</td>\n",
       "      <td>WN</td>\n",
       "      <td>19393</td>\n",
       "      <td>WN</td>\n",
       "      <td>N480WN</td>\n",
       "      <td>1499</td>\n",
       "      <td>10140</td>\n",
       "      <td>1014005</td>\n",
       "      <td>30140</td>\n",
       "      <td>ABQ</td>\n",
       "      <td>Albuquerque, NM</td>\n",
       "      <td>NM</td>\n",
       "      <td>35</td>\n",
       "      <td>New Mexico</td>\n",
       "      <td>86</td>\n",
       "      <td>11259</td>\n",
       "      <td>1125904</td>\n",
       "      <td>30194</td>\n",
       "      <td>DAL</td>\n",
       "      <td>Dallas, TX</td>\n",
       "      <td>TX</td>\n",
       "      <td>48</td>\n",
       "      <td>Texas</td>\n",
       "      <td>74</td>\n",
       "      <td>950</td>\n",
       "      <td>947.0</td>\n",
       "      <td>-3.0</td>\n",
       "      <td>0.0</td>\n",
       "      <td>0.0</td>\n",
       "      <td>-1.0</td>\n",
       "      <td>0900-0959</td>\n",
       "      <td>12.0</td>\n",
       "      <td>959.0</td>\n",
       "      <td>1220.0</td>\n",
       "      <td>3.0</td>\n",
       "      <td>1235</td>\n",
       "      <td>1223.0</td>\n",
       "      <td>-12.0</td>\n",
       "      <td>0.0</td>\n",
       "      <td>0.0</td>\n",
       "      <td>-1.0</td>\n",
       "      <td>1200-1259</td>\n",
       "      <td>0.0</td>\n",
       "      <td>NaN</td>\n",
       "      <td>0.0</td>\n",
       "      <td>105.0</td>\n",
       "      <td>96.0</td>\n",
       "      <td>81.0</td>\n",
       "      <td>1.0</td>\n",
       "      <td>580.0</td>\n",
       "      <td>3</td>\n",
       "      <td>NaN</td>\n",
       "      <td>NaN</td>\n",
       "      <td>NaN</td>\n",
       "      <td>NaN</td>\n",
       "      <td>NaN</td>\n",
       "      <td>NaN</td>\n",
       "      <td>NaN</td>\n",
       "      <td>NaN</td>\n",
       "      <td>0</td>\n",
       "      <td>NaN</td>\n",
       "      <td>NaN</td>\n",
       "      <td>NaN</td>\n",
       "      <td>NaN</td>\n",
       "      <td>NaN</td>\n",
       "      <td>NaN</td>\n",
       "      <td>NaN</td>\n",
       "      <td>NaN</td>\n",
       "      <td>NaN</td>\n",
       "      <td>NaN</td>\n",
       "      <td>NaN</td>\n",
       "      <td>NaN</td>\n",
       "      <td>NaN</td>\n",
       "      <td>NaN</td>\n",
       "      <td>NaN</td>\n",
       "      <td>NaN</td>\n",
       "      <td>NaN</td>\n",
       "      <td>NaN</td>\n",
       "      <td>NaN</td>\n",
       "      <td>NaN</td>\n",
       "      <td>NaN</td>\n",
       "      <td>NaN</td>\n",
       "      <td>NaN</td>\n",
       "      <td>NaN</td>\n",
       "      <td>NaN</td>\n",
       "      <td>NaN</td>\n",
       "      <td>NaN</td>\n",
       "      <td>NaN</td>\n",
       "      <td>NaN</td>\n",
       "      <td>NaN</td>\n",
       "      <td>NaN</td>\n",
       "      <td>NaN</td>\n",
       "      <td>NaN</td>\n",
       "      <td>NaN</td>\n",
       "      <td>NaN</td>\n",
       "      <td>NaN</td>\n",
       "      <td>NaN</td>\n",
       "      <td>NaN</td>\n",
       "      <td>NaN</td>\n",
       "      <td>NaN</td>\n",
       "      <td>NaN</td>\n",
       "      <td>NaN</td>\n",
       "      <td>NaN</td>\n",
       "      <td>NaN</td>\n",
       "      <td>NaN</td>\n",
       "    </tr>\n",
       "    <tr>\n",
       "      <th>4</th>\n",
       "      <td>2018</td>\n",
       "      <td>4</td>\n",
       "      <td>10</td>\n",
       "      <td>1</td>\n",
       "      <td>1</td>\n",
       "      <td>2018-10-01</td>\n",
       "      <td>WN</td>\n",
       "      <td>19393</td>\n",
       "      <td>WN</td>\n",
       "      <td>N227WN</td>\n",
       "      <td>3635</td>\n",
       "      <td>10140</td>\n",
       "      <td>1014005</td>\n",
       "      <td>30140</td>\n",
       "      <td>ABQ</td>\n",
       "      <td>Albuquerque, NM</td>\n",
       "      <td>NM</td>\n",
       "      <td>35</td>\n",
       "      <td>New Mexico</td>\n",
       "      <td>86</td>\n",
       "      <td>11259</td>\n",
       "      <td>1125904</td>\n",
       "      <td>30194</td>\n",
       "      <td>DAL</td>\n",
       "      <td>Dallas, TX</td>\n",
       "      <td>TX</td>\n",
       "      <td>48</td>\n",
       "      <td>Texas</td>\n",
       "      <td>74</td>\n",
       "      <td>1150</td>\n",
       "      <td>1151.0</td>\n",
       "      <td>1.0</td>\n",
       "      <td>1.0</td>\n",
       "      <td>0.0</td>\n",
       "      <td>0.0</td>\n",
       "      <td>1100-1159</td>\n",
       "      <td>11.0</td>\n",
       "      <td>1202.0</td>\n",
       "      <td>1422.0</td>\n",
       "      <td>1.0</td>\n",
       "      <td>1430</td>\n",
       "      <td>1423.0</td>\n",
       "      <td>-7.0</td>\n",
       "      <td>0.0</td>\n",
       "      <td>0.0</td>\n",
       "      <td>-1.0</td>\n",
       "      <td>1400-1459</td>\n",
       "      <td>0.0</td>\n",
       "      <td>NaN</td>\n",
       "      <td>0.0</td>\n",
       "      <td>100.0</td>\n",
       "      <td>92.0</td>\n",
       "      <td>80.0</td>\n",
       "      <td>1.0</td>\n",
       "      <td>580.0</td>\n",
       "      <td>3</td>\n",
       "      <td>NaN</td>\n",
       "      <td>NaN</td>\n",
       "      <td>NaN</td>\n",
       "      <td>NaN</td>\n",
       "      <td>NaN</td>\n",
       "      <td>NaN</td>\n",
       "      <td>NaN</td>\n",
       "      <td>NaN</td>\n",
       "      <td>0</td>\n",
       "      <td>NaN</td>\n",
       "      <td>NaN</td>\n",
       "      <td>NaN</td>\n",
       "      <td>NaN</td>\n",
       "      <td>NaN</td>\n",
       "      <td>NaN</td>\n",
       "      <td>NaN</td>\n",
       "      <td>NaN</td>\n",
       "      <td>NaN</td>\n",
       "      <td>NaN</td>\n",
       "      <td>NaN</td>\n",
       "      <td>NaN</td>\n",
       "      <td>NaN</td>\n",
       "      <td>NaN</td>\n",
       "      <td>NaN</td>\n",
       "      <td>NaN</td>\n",
       "      <td>NaN</td>\n",
       "      <td>NaN</td>\n",
       "      <td>NaN</td>\n",
       "      <td>NaN</td>\n",
       "      <td>NaN</td>\n",
       "      <td>NaN</td>\n",
       "      <td>NaN</td>\n",
       "      <td>NaN</td>\n",
       "      <td>NaN</td>\n",
       "      <td>NaN</td>\n",
       "      <td>NaN</td>\n",
       "      <td>NaN</td>\n",
       "      <td>NaN</td>\n",
       "      <td>NaN</td>\n",
       "      <td>NaN</td>\n",
       "      <td>NaN</td>\n",
       "      <td>NaN</td>\n",
       "      <td>NaN</td>\n",
       "      <td>NaN</td>\n",
       "      <td>NaN</td>\n",
       "      <td>NaN</td>\n",
       "      <td>NaN</td>\n",
       "      <td>NaN</td>\n",
       "      <td>NaN</td>\n",
       "      <td>NaN</td>\n",
       "      <td>NaN</td>\n",
       "      <td>NaN</td>\n",
       "      <td>NaN</td>\n",
       "      <td>NaN</td>\n",
       "    </tr>\n",
       "  </tbody>\n",
       "</table>\n",
       "</div>"
      ],
      "text/plain": [
       "   YEAR  QUARTER  MONTH  DAY_OF_MONTH  DAY_OF_WEEK     FL_DATE  \\\n",
       "0  2018        4     10             1            1  2018-10-01   \n",
       "1  2018        4     10             1            1  2018-10-01   \n",
       "2  2018        4     10             1            1  2018-10-01   \n",
       "3  2018        4     10             1            1  2018-10-01   \n",
       "4  2018        4     10             1            1  2018-10-01   \n",
       "\n",
       "  OP_UNIQUE_CARRIER  OP_CARRIER_AIRLINE_ID OP_CARRIER TAIL_NUM  \\\n",
       "0                WN                  19393         WN   N221WN   \n",
       "1                WN                  19393         WN   N8329B   \n",
       "2                WN                  19393         WN   N920WN   \n",
       "3                WN                  19393         WN   N480WN   \n",
       "4                WN                  19393         WN   N227WN   \n",
       "\n",
       "   OP_CARRIER_FL_NUM  ORIGIN_AIRPORT_ID  ORIGIN_AIRPORT_SEQ_ID  \\\n",
       "0                802              10140                1014005   \n",
       "1               3744              10140                1014005   \n",
       "2               1019              10140                1014005   \n",
       "3               1499              10140                1014005   \n",
       "4               3635              10140                1014005   \n",
       "\n",
       "   ORIGIN_CITY_MARKET_ID ORIGIN ORIGIN_CITY_NAME ORIGIN_STATE_ABR  \\\n",
       "0                  30140    ABQ  Albuquerque, NM               NM   \n",
       "1                  30140    ABQ  Albuquerque, NM               NM   \n",
       "2                  30140    ABQ  Albuquerque, NM               NM   \n",
       "3                  30140    ABQ  Albuquerque, NM               NM   \n",
       "4                  30140    ABQ  Albuquerque, NM               NM   \n",
       "\n",
       "   ORIGIN_STATE_FIPS ORIGIN_STATE_NM  ORIGIN_WAC  DEST_AIRPORT_ID  \\\n",
       "0                 35      New Mexico          86            10821   \n",
       "1                 35      New Mexico          86            10821   \n",
       "2                 35      New Mexico          86            11259   \n",
       "3                 35      New Mexico          86            11259   \n",
       "4                 35      New Mexico          86            11259   \n",
       "\n",
       "   DEST_AIRPORT_SEQ_ID  DEST_CITY_MARKET_ID DEST DEST_CITY_NAME  \\\n",
       "0              1082106                30852  BWI  Baltimore, MD   \n",
       "1              1082106                30852  BWI  Baltimore, MD   \n",
       "2              1125904                30194  DAL     Dallas, TX   \n",
       "3              1125904                30194  DAL     Dallas, TX   \n",
       "4              1125904                30194  DAL     Dallas, TX   \n",
       "\n",
       "  DEST_STATE_ABR  DEST_STATE_FIPS DEST_STATE_NM  DEST_WAC  CRS_DEP_TIME  \\\n",
       "0             MD               24      Maryland        35           905   \n",
       "1             MD               24      Maryland        35          1500   \n",
       "2             TX               48         Texas        74          1800   \n",
       "3             TX               48         Texas        74           950   \n",
       "4             TX               48         Texas        74          1150   \n",
       "\n",
       "   DEP_TIME  DEP_DELAY  DEP_DELAY_NEW  DEP_DEL15  DEP_DELAY_GROUP  \\\n",
       "0     903.0       -2.0            0.0        0.0             -1.0   \n",
       "1    1458.0       -2.0            0.0        0.0             -1.0   \n",
       "2    1802.0        2.0            2.0        0.0              0.0   \n",
       "3     947.0       -3.0            0.0        0.0             -1.0   \n",
       "4    1151.0        1.0            1.0        0.0              0.0   \n",
       "\n",
       "  DEP_TIME_BLK  TAXI_OUT  WHEELS_OFF  WHEELS_ON  TAXI_IN  CRS_ARR_TIME  \\\n",
       "0    0900-0959      10.0       913.0     1430.0      3.0          1450   \n",
       "1    1500-1559       8.0      1506.0     2017.0      3.0          2045   \n",
       "2    1800-1859       7.0      1809.0     2029.0      3.0          2045   \n",
       "3    0900-0959      12.0       959.0     1220.0      3.0          1235   \n",
       "4    1100-1159      11.0      1202.0     1422.0      1.0          1430   \n",
       "\n",
       "   ARR_TIME  ARR_DELAY  ARR_DELAY_NEW  ARR_DEL15  ARR_DELAY_GROUP  \\\n",
       "0    1433.0      -17.0            0.0        0.0             -2.0   \n",
       "1    2020.0      -25.0            0.0        0.0             -2.0   \n",
       "2    2032.0      -13.0            0.0        0.0             -1.0   \n",
       "3    1223.0      -12.0            0.0        0.0             -1.0   \n",
       "4    1423.0       -7.0            0.0        0.0             -1.0   \n",
       "\n",
       "  ARR_TIME_BLK  CANCELLED CANCELLATION_CODE  DIVERTED  CRS_ELAPSED_TIME  \\\n",
       "0    1400-1459        0.0               NaN       0.0             225.0   \n",
       "1    2000-2059        0.0               NaN       0.0             225.0   \n",
       "2    2000-2059        0.0               NaN       0.0             105.0   \n",
       "3    1200-1259        0.0               NaN       0.0             105.0   \n",
       "4    1400-1459        0.0               NaN       0.0             100.0   \n",
       "\n",
       "   ACTUAL_ELAPSED_TIME  AIR_TIME  FLIGHTS  DISTANCE  DISTANCE_GROUP  \\\n",
       "0                210.0     197.0      1.0    1670.0               7   \n",
       "1                202.0     191.0      1.0    1670.0               7   \n",
       "2                 90.0      80.0      1.0     580.0               3   \n",
       "3                 96.0      81.0      1.0     580.0               3   \n",
       "4                 92.0      80.0      1.0     580.0               3   \n",
       "\n",
       "   CARRIER_DELAY  WEATHER_DELAY  NAS_DELAY  SECURITY_DELAY  \\\n",
       "0            NaN            NaN        NaN             NaN   \n",
       "1            NaN            NaN        NaN             NaN   \n",
       "2            NaN            NaN        NaN             NaN   \n",
       "3            NaN            NaN        NaN             NaN   \n",
       "4            NaN            NaN        NaN             NaN   \n",
       "\n",
       "   LATE_AIRCRAFT_DELAY  FIRST_DEP_TIME  TOTAL_ADD_GTIME  LONGEST_ADD_GTIME  \\\n",
       "0                  NaN             NaN              NaN                NaN   \n",
       "1                  NaN             NaN              NaN                NaN   \n",
       "2                  NaN             NaN              NaN                NaN   \n",
       "3                  NaN             NaN              NaN                NaN   \n",
       "4                  NaN             NaN              NaN                NaN   \n",
       "\n",
       "   DIV_AIRPORT_LANDINGS  DIV_REACHED_DEST  DIV_ACTUAL_ELAPSED_TIME  \\\n",
       "0                     0               NaN                      NaN   \n",
       "1                     0               NaN                      NaN   \n",
       "2                     0               NaN                      NaN   \n",
       "3                     0               NaN                      NaN   \n",
       "4                     0               NaN                      NaN   \n",
       "\n",
       "   DIV_ARR_DELAY  DIV_DISTANCE DIV1_AIRPORT  DIV1_AIRPORT_ID  \\\n",
       "0            NaN           NaN          NaN              NaN   \n",
       "1            NaN           NaN          NaN              NaN   \n",
       "2            NaN           NaN          NaN              NaN   \n",
       "3            NaN           NaN          NaN              NaN   \n",
       "4            NaN           NaN          NaN              NaN   \n",
       "\n",
       "   DIV1_AIRPORT_SEQ_ID  DIV1_WHEELS_ON  DIV1_TOTAL_GTIME  DIV1_LONGEST_GTIME  \\\n",
       "0                  NaN             NaN               NaN                 NaN   \n",
       "1                  NaN             NaN               NaN                 NaN   \n",
       "2                  NaN             NaN               NaN                 NaN   \n",
       "3                  NaN             NaN               NaN                 NaN   \n",
       "4                  NaN             NaN               NaN                 NaN   \n",
       "\n",
       "   DIV1_WHEELS_OFF DIV1_TAIL_NUM DIV2_AIRPORT  DIV2_AIRPORT_ID  \\\n",
       "0              NaN           NaN          NaN              NaN   \n",
       "1              NaN           NaN          NaN              NaN   \n",
       "2              NaN           NaN          NaN              NaN   \n",
       "3              NaN           NaN          NaN              NaN   \n",
       "4              NaN           NaN          NaN              NaN   \n",
       "\n",
       "   DIV2_AIRPORT_SEQ_ID  DIV2_WHEELS_ON  DIV2_TOTAL_GTIME  DIV2_LONGEST_GTIME  \\\n",
       "0                  NaN             NaN               NaN                 NaN   \n",
       "1                  NaN             NaN               NaN                 NaN   \n",
       "2                  NaN             NaN               NaN                 NaN   \n",
       "3                  NaN             NaN               NaN                 NaN   \n",
       "4                  NaN             NaN               NaN                 NaN   \n",
       "\n",
       "   DIV2_WHEELS_OFF DIV2_TAIL_NUM  DIV3_AIRPORT  DIV3_AIRPORT_ID  \\\n",
       "0              NaN           NaN           NaN              NaN   \n",
       "1              NaN           NaN           NaN              NaN   \n",
       "2              NaN           NaN           NaN              NaN   \n",
       "3              NaN           NaN           NaN              NaN   \n",
       "4              NaN           NaN           NaN              NaN   \n",
       "\n",
       "   DIV3_AIRPORT_SEQ_ID  DIV3_WHEELS_ON  DIV3_TOTAL_GTIME  DIV3_LONGEST_GTIME  \\\n",
       "0                  NaN             NaN               NaN                 NaN   \n",
       "1                  NaN             NaN               NaN                 NaN   \n",
       "2                  NaN             NaN               NaN                 NaN   \n",
       "3                  NaN             NaN               NaN                 NaN   \n",
       "4                  NaN             NaN               NaN                 NaN   \n",
       "\n",
       "   DIV3_WHEELS_OFF  DIV3_TAIL_NUM  DIV4_AIRPORT  DIV4_AIRPORT_ID  \\\n",
       "0              NaN            NaN           NaN              NaN   \n",
       "1              NaN            NaN           NaN              NaN   \n",
       "2              NaN            NaN           NaN              NaN   \n",
       "3              NaN            NaN           NaN              NaN   \n",
       "4              NaN            NaN           NaN              NaN   \n",
       "\n",
       "   DIV4_AIRPORT_SEQ_ID  DIV4_WHEELS_ON  DIV4_TOTAL_GTIME  DIV4_LONGEST_GTIME  \\\n",
       "0                  NaN             NaN               NaN                 NaN   \n",
       "1                  NaN             NaN               NaN                 NaN   \n",
       "2                  NaN             NaN               NaN                 NaN   \n",
       "3                  NaN             NaN               NaN                 NaN   \n",
       "4                  NaN             NaN               NaN                 NaN   \n",
       "\n",
       "   DIV4_WHEELS_OFF  DIV4_TAIL_NUM  DIV5_AIRPORT  DIV5_AIRPORT_ID  \\\n",
       "0              NaN            NaN           NaN              NaN   \n",
       "1              NaN            NaN           NaN              NaN   \n",
       "2              NaN            NaN           NaN              NaN   \n",
       "3              NaN            NaN           NaN              NaN   \n",
       "4              NaN            NaN           NaN              NaN   \n",
       "\n",
       "   DIV5_AIRPORT_SEQ_ID  DIV5_WHEELS_ON  DIV5_TOTAL_GTIME  DIV5_LONGEST_GTIME  \\\n",
       "0                  NaN             NaN               NaN                 NaN   \n",
       "1                  NaN             NaN               NaN                 NaN   \n",
       "2                  NaN             NaN               NaN                 NaN   \n",
       "3                  NaN             NaN               NaN                 NaN   \n",
       "4                  NaN             NaN               NaN                 NaN   \n",
       "\n",
       "   DIV5_WHEELS_OFF  DIV5_TAIL_NUM  Unnamed: 109  \n",
       "0              NaN            NaN           NaN  \n",
       "1              NaN            NaN           NaN  \n",
       "2              NaN            NaN           NaN  \n",
       "3              NaN            NaN           NaN  \n",
       "4              NaN            NaN           NaN  "
      ]
     },
     "execution_count": 3,
     "metadata": {},
     "output_type": "execute_result"
    }
   ],
   "source": [
    "#Checking dataframe's head\n",
    "data_oct.head()"
   ]
  },
  {
   "cell_type": "markdown",
   "metadata": {},
   "source": [
    "## Initial October Data Exploration ##"
   ]
  },
  {
   "cell_type": "code",
   "execution_count": 4,
   "metadata": {},
   "outputs": [
    {
     "data": {
      "text/plain": [
       "(616101, 110)"
      ]
     },
     "execution_count": 4,
     "metadata": {},
     "output_type": "execute_result"
    }
   ],
   "source": [
    "#Size of data\n",
    "data_oct.shape"
   ]
  },
  {
   "cell_type": "code",
   "execution_count": 5,
   "metadata": {},
   "outputs": [
    {
     "data": {
      "text/plain": [
       "0.0    611616\n",
       "1.0      4485\n",
       "Name: CANCELLED, dtype: int64"
      ]
     },
     "execution_count": 5,
     "metadata": {},
     "output_type": "execute_result"
    }
   ],
   "source": [
    "#Data in the flight cancellation column\n",
    "data_oct['CANCELLED'].value_counts()"
   ]
  },
  {
   "cell_type": "code",
   "execution_count": 6,
   "metadata": {},
   "outputs": [
    {
     "data": {
      "text/plain": [
       "0.0    614819\n",
       "1.0      1282\n",
       "Name: DIVERTED, dtype: int64"
      ]
     },
     "execution_count": 6,
     "metadata": {},
     "output_type": "execute_result"
    }
   ],
   "source": [
    "#Data in the flight diversion column\n",
    "data_oct['DIVERTED'].value_counts()"
   ]
  },
  {
   "cell_type": "code",
   "execution_count": 7,
   "metadata": {},
   "outputs": [
    {
     "data": {
      "text/plain": [
       "1.0    616101\n",
       "Name: FLIGHTS, dtype: int64"
      ]
     },
     "execution_count": 7,
     "metadata": {},
     "output_type": "execute_result"
    }
   ],
   "source": [
    "#Data in FLIGHTS field\n",
    "data_oct['FLIGHTS'].value_counts() #This field seems uninformative"
   ]
  },
  {
   "cell_type": "code",
   "execution_count": 8,
   "metadata": {},
   "outputs": [
    {
     "data": {
      "text/plain": [
       "0.0     54028\n",
       "1.0      1960\n",
       "2.0      1889\n",
       "3.0      1809\n",
       "6.0      1743\n",
       "4.0      1734\n",
       "5.0      1632\n",
       "7.0      1559\n",
       "8.0      1419\n",
       "15.0     1269\n",
       "9.0      1258\n",
       "10.0     1156\n",
       "16.0     1154\n",
       "11.0     1056\n",
       "17.0     1043\n",
       "Name: CARRIER_DELAY, dtype: int64"
      ]
     },
     "execution_count": 8,
     "metadata": {},
     "output_type": "execute_result"
    }
   ],
   "source": [
    "#Data in the CARRIER_DELAY field\n",
    "data_oct['CARRIER_DELAY'].value_counts().head(15) #Field represents carrier delay duration"
   ]
  },
  {
   "cell_type": "code",
   "execution_count": 9,
   "metadata": {},
   "outputs": [
    {
     "data": {
      "text/plain": [
       "0    614762\n",
       "1      1270\n",
       "9        57\n",
       "2        12\n",
       "Name: DIV_AIRPORT_LANDINGS, dtype: int64"
      ]
     },
     "execution_count": 9,
     "metadata": {},
     "output_type": "execute_result"
    }
   ],
   "source": [
    "#Data in DIV_AIRPORT_LANDINGS field\n",
    "data_oct['DIV_AIRPORT_LANDINGS'].value_counts() #Number of actual diversions, raises questions for 9 diversions(!)"
   ]
  },
  {
   "cell_type": "code",
   "execution_count": 10,
   "metadata": {},
   "outputs": [
    {
     "data": {
      "text/plain": [
       "1.0    1137\n",
       "0.0     145\n",
       "Name: DIV_REACHED_DEST, dtype: int64"
      ]
     },
     "execution_count": 10,
     "metadata": {},
     "output_type": "execute_result"
    }
   ],
   "source": [
    "#Diverted flights actually reaching their destination airport\n",
    "data_oct['DIV_REACHED_DEST'].value_counts()"
   ]
  },
  {
   "cell_type": "code",
   "execution_count": 11,
   "metadata": {},
   "outputs": [
    {
     "data": {
      "text/plain": [
       "0.0    508677\n",
       "1.0    101657\n",
       "Name: ARR_DEL15, dtype: int64"
      ]
     },
     "execution_count": 11,
     "metadata": {},
     "output_type": "execute_result"
    }
   ],
   "source": [
    "#Arrival delay exceeding 15 minutes to scheduled arrival time\n",
    "data_oct['ARR_DEL15'].value_counts()"
   ]
  },
  {
   "cell_type": "markdown",
   "metadata": {},
   "source": [
    "This field is very important as, accoring to accepted industry standards, a \"True Delay\" is when flight's arrival time exceeds its scheduled arrival time by 15 or more minutes. "
   ]
  },
  {
   "cell_type": "code",
   "execution_count": 12,
   "metadata": {},
   "outputs": [
    {
     "name": "stdout",
     "output_type": "stream",
     "text": [
      "39.82% of flights were delayed more than 15 minutes in October 2018\n"
     ]
    },
    {
     "data": {
      "image/png": "[encoded data removed]",
      "text/plain": [
       "<Figure size 432x288 with 1 Axes>"
      ]
     },
     "metadata": {
      "image/png": {
       "height": 262,
       "width": 448
      },
      "needs_background": "light"
     },
     "output_type": "display_data"
    }
   ],
   "source": [
    "#Defining a function for TrueDelay barchart\n",
    "def true_delay_chart(data_month):  \n",
    "    sns.barplot(x=['NoTrueDelay','TrueDelay'],y=data_month.value_counts(), palette='colorblind');\n",
    "    plt.title(\"True Delay (Arrival Delay>15 minutes)\", fontsize=16)\n",
    "    plt.ylabel(\"Count\", fontsize=12);\n",
    "    return None\n",
    "\n",
    "#Plotting a barchart of True Delays for October 2018\n",
    "true_delay_chart(data_oct['ARR_DEL15']);\n",
    "print(f\"{round(data_oct[abs(data_oct['ARR_DELAY']) >= 15].shape[0]/data_oct.shape[0]*100,2)}% of flights were delayed more than 15 minutes in October 2018\")"
   ]
  },
  {
   "cell_type": "markdown",
   "metadata": {},
   "source": [
    "## Importing November 2018 Flights Data ##"
   ]
  },
  {
   "cell_type": "code",
   "execution_count": 13,
   "metadata": {},
   "outputs": [
    {
     "name": "stderr",
     "output_type": "stream",
     "text": [
      "/Library/Frameworks/Python.framework/Versions/3.7/lib/python3.7/site-packages/IPython/core/interactiveshell.py:3051: DtypeWarning: Columns (48,69,76,77,84) have mixed types. Specify dtype option on import or set low_memory=False.\n",
      "  interactivity=interactivity, compiler=compiler, result=result)\n"
     ]
    }
   ],
   "source": [
    "#Loading November 2018 data from a csv file\n",
    "data_nov = pd.read_csv('~/ga/projects/capstone_data/data/november.csv')"
   ]
  },
  {
   "cell_type": "markdown",
   "metadata": {},
   "source": [
    "## Initial November 2018 Data Exploration ##"
   ]
  },
  {
   "cell_type": "code",
   "execution_count": 14,
   "metadata": {},
   "outputs": [
    {
     "data": {
      "text/plain": [
       "(586178, 110)"
      ]
     },
     "execution_count": 14,
     "metadata": {},
     "output_type": "execute_result"
    }
   ],
   "source": [
    "#Size of November data\n",
    "data_nov.shape"
   ]
  },
  {
   "cell_type": "code",
   "execution_count": 15,
   "metadata": {},
   "outputs": [
    {
     "name": "stdout",
     "output_type": "stream",
     "text": [
      "41.72% of flights were delayed more than 15 minutes in November 2018\n"
     ]
    },
    {
     "data": {
      "image/png": "[encoded data removed]",
      "text/plain": [
       "<Figure size 432x288 with 1 Axes>"
      ]
     },
     "metadata": {
      "image/png": {
       "height": 262,
       "width": 448
      },
      "needs_background": "light"
     },
     "output_type": "display_data"
    }
   ],
   "source": [
    "#Plotting a barchart of True Delays for November 2018\n",
    "true_delay_chart(data_nov['ARR_DEL15']);\n",
    "print(f\"{round(data_nov[abs(data_nov['ARR_DELAY']) >= 15].shape[0]/data_nov.shape[0]*100,2)}% of flights were delayed more than 15 minutes in November 2018\")"
   ]
  },
  {
   "cell_type": "markdown",
   "metadata": {},
   "source": [
    "## Importing December 2018 Flights Data ##"
   ]
  },
  {
   "cell_type": "code",
   "execution_count": 16,
   "metadata": {},
   "outputs": [],
   "source": [
    "#Loading December 2018 data from a csv file\n",
    "data_dec = pd.read_csv('~/ga/projects/capstone_data/data/december.csv')"
   ]
  },
  {
   "cell_type": "markdown",
   "metadata": {},
   "source": [
    "## Initial December 2018 Data Exploration ##"
   ]
  },
  {
   "cell_type": "code",
   "execution_count": 17,
   "metadata": {},
   "outputs": [
    {
     "data": {
      "text/plain": [
       "(593842, 110)"
      ]
     },
     "execution_count": 17,
     "metadata": {},
     "output_type": "execute_result"
    }
   ],
   "source": [
    "#Size of data\n",
    "data_dec.shape"
   ]
  },
  {
   "cell_type": "code",
   "execution_count": 18,
   "metadata": {},
   "outputs": [
    {
     "name": "stdout",
     "output_type": "stream",
     "text": [
      "44.8% of flights were delayed more than 15 minutes in December 2018\n"
     ]
    },
    {
     "data": {
      "image/png": "[encoded data removed]",
      "text/plain": [
       "<Figure size 432x288 with 1 Axes>"
      ]
     },
     "metadata": {
      "image/png": {
       "height": 262,
       "width": 448
      },
      "needs_background": "light"
     },
     "output_type": "display_data"
    }
   ],
   "source": [
    "#Plotting a barchart of True Delays for December 2018\n",
    "true_delay_chart(data_dec['ARR_DEL15']);\n",
    "print(f\"{round(data_dec[abs(data_dec['ARR_DELAY']) >= 15].shape[0]/data_dec.shape[0]*100,2)}% of flights were delayed more than 15 minutes in December 2018\")"
   ]
  },
  {
   "cell_type": "markdown",
   "metadata": {},
   "source": [
    "## Q4 Initial Data Exploration ##"
   ]
  },
  {
   "cell_type": "code",
   "execution_count": 19,
   "metadata": {},
   "outputs": [
    {
     "data": {
      "text/plain": [
       "1796121"
      ]
     },
     "execution_count": 19,
     "metadata": {},
     "output_type": "execute_result"
    }
   ],
   "source": [
    "#Size of Q4 2018 data\n",
    "data_oct.shape[0]+data_nov.shape[0]+data_dec.shape[0]"
   ]
  },
  {
   "cell_type": "code",
   "execution_count": 20,
   "metadata": {},
   "outputs": [],
   "source": [
    "#Concatenating 3 DataFrames for Q4\n",
    "delays = pd.concat([data_oct,data_nov,data_dec])"
   ]
  },
  {
   "cell_type": "code",
   "execution_count": 21,
   "metadata": {},
   "outputs": [
    {
     "data": {
      "text/plain": [
       "(1796121, 110)"
      ]
     },
     "execution_count": 21,
     "metadata": {},
     "output_type": "execute_result"
    }
   ],
   "source": [
    "#Size check\n",
    "delays.shape"
   ]
  },
  {
   "cell_type": "code",
   "execution_count": 22,
   "metadata": {},
   "outputs": [
    {
     "name": "stdout",
     "output_type": "stream",
     "text": [
      "42.09% of flights were delayed more than 15 minutes in Q4 2018\n"
     ]
    },
    {
     "data": {
      "image/png": "[encoded data removed]",
      "text/plain": [
       "<Figure size 432x288 with 1 Axes>"
      ]
     },
     "metadata": {
      "image/png": {
       "height": 262,
       "width": 454
      },
      "needs_background": "light"
     },
     "output_type": "display_data"
    }
   ],
   "source": [
    "#Plotting a barchart of True Delays for Q4 2018\n",
    "true_delay_chart(delays['ARR_DEL15']);\n",
    "print(f\"{round(delays[abs(delays['ARR_DELAY']) >= 15].shape[0]/delays.shape[0]*100,2)}% of flights were delayed more than 15 minutes in Q4 2018\")"
   ]
  },
  {
   "cell_type": "code",
   "execution_count": null,
   "metadata": {},
   "outputs": [],
   "source": [
    "#Saving dataframe with Q4 flights information to a csv file\n",
    "delays.to_csv('~/ga/projects/capstone_data/data/delaysQ4_2018.csv')"
   ]
  }
 ],
 "metadata": {
  "kernelspec": {
   "display_name": "Python 3",
   "language": "python",
   "name": "python3"
  },
  "language_info": {
   "codemirror_mode": {
    "name": "ipython",
    "version": 3
   },
   "file_extension": ".py",
   "mimetype": "text/x-python",
   "name": "python",
   "nbconvert_exporter": "python",
   "pygments_lexer": "ipython3",
   "version": "3.7.5"
  },
  "latex_envs": {
   "LaTeX_envs_menu_present": true,
   "autoclose": false,
   "autocomplete": true,
   "bibliofile": "biblio.bib",
   "cite_by": "apalike",
   "current_citInitial": 1,
   "eqLabelWithNumbers": true,
   "eqNumInitial": 1,
   "hotkeys": {
    "equation": "Ctrl-E",
    "itemize": "Ctrl-I"
   },
   "labels_anchors": false,
   "latex_user_defs": false,
   "report_style_numbering": false,
   "user_envs_cfg": false
  },
  "toc": {
   "base_numbering": 1,
   "nav_menu": {},
   "number_sections": true,
   "sideBar": true,
   "skip_h1_title": false,
   "title_cell": "Table of Contents",
   "title_sidebar": "Contents",
   "toc_cell": false,
   "toc_position": {},
   "toc_section_display": true,
   "toc_window_display": false
  },
  "varInspector": {
   "cols": {
    "lenName": 16,
    "lenType": 16,
    "lenVar": 40
   },
   "kernels_config": {
    "python": {
     "delete_cmd_postfix": "",
     "delete_cmd_prefix": "del ",
     "library": "var_list.py",
     "varRefreshCmd": "print(var_dic_list())"
    },
    "r": {
     "delete_cmd_postfix": ") ",
     "delete_cmd_prefix": "rm(",
     "library": "var_list.r",
     "varRefreshCmd": "cat(var_dic_list()) "
    }
   },
   "types_to_exclude": [
    "module",
    "function",
    "builtin_function_or_method",
    "instance",
    "_Feature"
   ],
   "window_display": false
  }
 },
 "nbformat": 4,
 "nbformat_minor": 2
}
